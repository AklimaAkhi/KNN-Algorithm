{
 "cells": [
  {
   "cell_type": "code",
   "execution_count": 1,
   "id": "45ff75fe",
   "metadata": {},
   "outputs": [],
   "source": [
    "import pandas as pd\n",
    "import numpy as np"
   ]
  },
  {
   "cell_type": "code",
   "execution_count": 2,
   "id": "a8610731",
   "metadata": {},
   "outputs": [],
   "source": [
    "df= pd.read_csv('weight-height.csv')"
   ]
  },
  {
   "cell_type": "code",
   "execution_count": 3,
   "id": "ec5a35f2",
   "metadata": {},
   "outputs": [
    {
     "data": {
      "text/html": [
       "<div>\n",
       "<style scoped>\n",
       "    .dataframe tbody tr th:only-of-type {\n",
       "        vertical-align: middle;\n",
       "    }\n",
       "\n",
       "    .dataframe tbody tr th {\n",
       "        vertical-align: top;\n",
       "    }\n",
       "\n",
       "    .dataframe thead th {\n",
       "        text-align: right;\n",
       "    }\n",
       "</style>\n",
       "<table border=\"1\" class=\"dataframe\">\n",
       "  <thead>\n",
       "    <tr style=\"text-align: right;\">\n",
       "      <th></th>\n",
       "      <th>Gender</th>\n",
       "      <th>Height</th>\n",
       "      <th>Weight</th>\n",
       "    </tr>\n",
       "  </thead>\n",
       "  <tbody>\n",
       "    <tr>\n",
       "      <th>0</th>\n",
       "      <td>Male</td>\n",
       "      <td>73.847017</td>\n",
       "      <td>241.893563</td>\n",
       "    </tr>\n",
       "    <tr>\n",
       "      <th>1</th>\n",
       "      <td>Male</td>\n",
       "      <td>68.781904</td>\n",
       "      <td>162.310473</td>\n",
       "    </tr>\n",
       "    <tr>\n",
       "      <th>2</th>\n",
       "      <td>Male</td>\n",
       "      <td>74.110105</td>\n",
       "      <td>212.740856</td>\n",
       "    </tr>\n",
       "    <tr>\n",
       "      <th>3</th>\n",
       "      <td>Male</td>\n",
       "      <td>71.730978</td>\n",
       "      <td>220.042470</td>\n",
       "    </tr>\n",
       "    <tr>\n",
       "      <th>4</th>\n",
       "      <td>Male</td>\n",
       "      <td>69.881796</td>\n",
       "      <td>206.349801</td>\n",
       "    </tr>\n",
       "  </tbody>\n",
       "</table>\n",
       "</div>"
      ],
      "text/plain": [
       "  Gender     Height      Weight\n",
       "0   Male  73.847017  241.893563\n",
       "1   Male  68.781904  162.310473\n",
       "2   Male  74.110105  212.740856\n",
       "3   Male  71.730978  220.042470\n",
       "4   Male  69.881796  206.349801"
      ]
     },
     "execution_count": 3,
     "metadata": {},
     "output_type": "execute_result"
    }
   ],
   "source": [
    "df.head()"
   ]
  },
  {
   "cell_type": "code",
   "execution_count": 4,
   "id": "735712df",
   "metadata": {},
   "outputs": [
    {
     "name": "stdout",
     "output_type": "stream",
     "text": [
      "<class 'pandas.core.frame.DataFrame'>\n",
      "RangeIndex: 8555 entries, 0 to 8554\n",
      "Data columns (total 3 columns):\n",
      " #   Column  Non-Null Count  Dtype  \n",
      "---  ------  --------------  -----  \n",
      " 0   Gender  8555 non-null   object \n",
      " 1   Height  8555 non-null   float64\n",
      " 2   Weight  8555 non-null   float64\n",
      "dtypes: float64(2), object(1)\n",
      "memory usage: 200.6+ KB\n"
     ]
    }
   ],
   "source": [
    "df.info()"
   ]
  },
  {
   "cell_type": "code",
   "execution_count": 5,
   "id": "1bd457b1",
   "metadata": {},
   "outputs": [],
   "source": [
    "x= df.drop('Weight', axis=1)\n",
    "y=df['Weight']"
   ]
  },
  {
   "cell_type": "code",
   "execution_count": 6,
   "id": "6b9dda54",
   "metadata": {},
   "outputs": [
    {
     "data": {
      "text/html": [
       "<div>\n",
       "<style scoped>\n",
       "    .dataframe tbody tr th:only-of-type {\n",
       "        vertical-align: middle;\n",
       "    }\n",
       "\n",
       "    .dataframe tbody tr th {\n",
       "        vertical-align: top;\n",
       "    }\n",
       "\n",
       "    .dataframe thead th {\n",
       "        text-align: right;\n",
       "    }\n",
       "</style>\n",
       "<table border=\"1\" class=\"dataframe\">\n",
       "  <thead>\n",
       "    <tr style=\"text-align: right;\">\n",
       "      <th></th>\n",
       "      <th>Gender</th>\n",
       "      <th>Height</th>\n",
       "    </tr>\n",
       "  </thead>\n",
       "  <tbody>\n",
       "    <tr>\n",
       "      <th>0</th>\n",
       "      <td>Male</td>\n",
       "      <td>73.847017</td>\n",
       "    </tr>\n",
       "    <tr>\n",
       "      <th>1</th>\n",
       "      <td>Male</td>\n",
       "      <td>68.781904</td>\n",
       "    </tr>\n",
       "    <tr>\n",
       "      <th>2</th>\n",
       "      <td>Male</td>\n",
       "      <td>74.110105</td>\n",
       "    </tr>\n",
       "    <tr>\n",
       "      <th>3</th>\n",
       "      <td>Male</td>\n",
       "      <td>71.730978</td>\n",
       "    </tr>\n",
       "    <tr>\n",
       "      <th>4</th>\n",
       "      <td>Male</td>\n",
       "      <td>69.881796</td>\n",
       "    </tr>\n",
       "  </tbody>\n",
       "</table>\n",
       "</div>"
      ],
      "text/plain": [
       "  Gender     Height\n",
       "0   Male  73.847017\n",
       "1   Male  68.781904\n",
       "2   Male  74.110105\n",
       "3   Male  71.730978\n",
       "4   Male  69.881796"
      ]
     },
     "execution_count": 6,
     "metadata": {},
     "output_type": "execute_result"
    }
   ],
   "source": [
    "x.head()"
   ]
  },
  {
   "cell_type": "code",
   "execution_count": 7,
   "id": "d3c2dc42",
   "metadata": {},
   "outputs": [
    {
     "data": {
      "text/plain": [
       "0    241.893563\n",
       "1    162.310473\n",
       "2    212.740856\n",
       "3    220.042470\n",
       "4    206.349801\n",
       "Name: Weight, dtype: float64"
      ]
     },
     "execution_count": 7,
     "metadata": {},
     "output_type": "execute_result"
    }
   ],
   "source": [
    "y.head()"
   ]
  },
  {
   "cell_type": "code",
   "execution_count": 8,
   "id": "202e357a",
   "metadata": {},
   "outputs": [],
   "source": [
    "from sklearn.preprocessing import LabelEncoder"
   ]
  },
  {
   "cell_type": "code",
   "execution_count": 9,
   "id": "a9dd0576",
   "metadata": {},
   "outputs": [],
   "source": [
    "le=LabelEncoder()"
   ]
  },
  {
   "cell_type": "code",
   "execution_count": 10,
   "id": "60a6622b",
   "metadata": {},
   "outputs": [
    {
     "data": {
      "text/plain": [
       "0       1\n",
       "1       1\n",
       "2       1\n",
       "3       1\n",
       "4       1\n",
       "       ..\n",
       "8550    0\n",
       "8551    0\n",
       "8552    0\n",
       "8553    0\n",
       "8554    0\n",
       "Name: Gender, Length: 8555, dtype: int32"
      ]
     },
     "execution_count": 10,
     "metadata": {},
     "output_type": "execute_result"
    }
   ],
   "source": [
    "x.Gender= le.fit_transform(x.Gender)\n",
    "x.Gender"
   ]
  },
  {
   "cell_type": "code",
   "execution_count": 11,
   "id": "15a7e6cd",
   "metadata": {},
   "outputs": [],
   "source": [
    "from sklearn.model_selection import train_test_split"
   ]
  },
  {
   "cell_type": "code",
   "execution_count": 12,
   "id": "44231098",
   "metadata": {},
   "outputs": [],
   "source": [
    "xtrain, xtest,ytrain, ytest = train_test_split(x, y,test_size=.30, random_state=1)"
   ]
  },
  {
   "cell_type": "markdown",
   "id": "8540998d",
   "metadata": {},
   "source": [
    "# Linear Regression"
   ]
  },
  {
   "cell_type": "code",
   "execution_count": 13,
   "id": "4bf83929",
   "metadata": {},
   "outputs": [],
   "source": [
    "from sklearn.linear_model import LinearRegression"
   ]
  },
  {
   "cell_type": "code",
   "execution_count": 14,
   "id": "0397e9c3",
   "metadata": {},
   "outputs": [],
   "source": [
    "lr= LinearRegression()"
   ]
  },
  {
   "cell_type": "code",
   "execution_count": 15,
   "id": "50bbbe84",
   "metadata": {},
   "outputs": [
    {
     "data": {
      "text/plain": [
       "LinearRegression()"
      ]
     },
     "execution_count": 15,
     "metadata": {},
     "output_type": "execute_result"
    }
   ],
   "source": [
    "lr.fit(xtrain, ytrain)"
   ]
  },
  {
   "cell_type": "code",
   "execution_count": 16,
   "id": "0582de97",
   "metadata": {},
   "outputs": [
    {
     "data": {
      "text/plain": [
       "array([19.34359322,  5.96887438])"
      ]
     },
     "execution_count": 16,
     "metadata": {},
     "output_type": "execute_result"
    }
   ],
   "source": [
    "lr.coef_"
   ]
  },
  {
   "cell_type": "code",
   "execution_count": 17,
   "id": "b3ba7722",
   "metadata": {},
   "outputs": [
    {
     "data": {
      "text/plain": [
       "-244.5528090325578"
      ]
     },
     "execution_count": 17,
     "metadata": {},
     "output_type": "execute_result"
    }
   ],
   "source": [
    "lr.intercept_"
   ]
  },
  {
   "cell_type": "code",
   "execution_count": 18,
   "id": "31b3f289",
   "metadata": {},
   "outputs": [
    {
     "data": {
      "text/plain": [
       "array([143.83013436, 197.53417989, 184.63515112, ..., 160.7078525 ,\n",
       "       186.82852694, 201.4226542 ])"
      ]
     },
     "execution_count": 18,
     "metadata": {},
     "output_type": "execute_result"
    }
   ],
   "source": [
    "lr.predict(xtest)"
   ]
  },
  {
   "cell_type": "code",
   "execution_count": 19,
   "id": "350dd360",
   "metadata": {},
   "outputs": [
    {
     "data": {
      "text/plain": [
       "0.899942429187834"
      ]
     },
     "execution_count": 19,
     "metadata": {},
     "output_type": "execute_result"
    }
   ],
   "source": [
    "lr.score(x,y)"
   ]
  },
  {
   "cell_type": "code",
   "execution_count": 20,
   "id": "1d6b1f8e",
   "metadata": {},
   "outputs": [
    {
     "data": {
      "text/plain": [
       "0.8972135459668117"
      ]
     },
     "execution_count": 20,
     "metadata": {},
     "output_type": "execute_result"
    }
   ],
   "source": [
    "lr.score(xtrain, ytrain)"
   ]
  },
  {
   "cell_type": "code",
   "execution_count": 21,
   "id": "6a8b7b9c",
   "metadata": {},
   "outputs": [
    {
     "data": {
      "text/plain": [
       "0.905995960709116"
      ]
     },
     "execution_count": 21,
     "metadata": {},
     "output_type": "execute_result"
    }
   ],
   "source": [
    "lr.score(xtest,ytest)"
   ]
  },
  {
   "cell_type": "code",
   "execution_count": 22,
   "id": "18400c14",
   "metadata": {},
   "outputs": [],
   "source": [
    "from sklearn.metrics import mean_squared_error # MSE\n",
    "pred = lr.predict(xtest)\n",
    "mse = mean_squared_error(ytest , pred)"
   ]
  },
  {
   "cell_type": "code",
   "execution_count": 23,
   "id": "1f4deac1",
   "metadata": {},
   "outputs": [
    {
     "data": {
      "text/plain": [
       "99.67250998070031"
      ]
     },
     "execution_count": 23,
     "metadata": {},
     "output_type": "execute_result"
    }
   ],
   "source": [
    "mse"
   ]
  },
  {
   "cell_type": "code",
   "execution_count": 24,
   "id": "55e67bf4",
   "metadata": {},
   "outputs": [],
   "source": [
    "from sklearn.metrics import mean_absolute_error #MAE\n",
    "mae = mean_absolute_error(ytest, pred)"
   ]
  },
  {
   "cell_type": "code",
   "execution_count": 25,
   "id": "c444623e",
   "metadata": {},
   "outputs": [
    {
     "data": {
      "text/plain": [
       "7.98213259272913"
      ]
     },
     "execution_count": 25,
     "metadata": {},
     "output_type": "execute_result"
    }
   ],
   "source": [
    "mae"
   ]
  },
  {
   "cell_type": "markdown",
   "id": "f33f8592",
   "metadata": {},
   "source": [
    "# KNN ALGORITHM"
   ]
  },
  {
   "cell_type": "markdown",
   "id": "a1f7db59",
   "metadata": {},
   "source": [
    "# KNN Regressor"
   ]
  },
  {
   "cell_type": "code",
   "execution_count": 26,
   "id": "da0f9f69",
   "metadata": {},
   "outputs": [],
   "source": [
    "from sklearn.neighbors import KNeighborsRegressor"
   ]
  },
  {
   "cell_type": "code",
   "execution_count": 27,
   "id": "c3e9439c",
   "metadata": {},
   "outputs": [],
   "source": [
    "knn= KNeighborsRegressor()"
   ]
  },
  {
   "cell_type": "code",
   "execution_count": 28,
   "id": "143e15eb",
   "metadata": {},
   "outputs": [
    {
     "data": {
      "text/plain": [
       "KNeighborsRegressor()"
      ]
     },
     "execution_count": 28,
     "metadata": {},
     "output_type": "execute_result"
    }
   ],
   "source": [
    "knn.fit(xtrain,ytrain)"
   ]
  },
  {
   "cell_type": "code",
   "execution_count": 29,
   "id": "ab0838cb",
   "metadata": {},
   "outputs": [
    {
     "data": {
      "text/plain": [
       "array([150.1761117 , 197.46276978, 179.03501546, ..., 160.26227546,\n",
       "       180.65461322, 200.56451578])"
      ]
     },
     "execution_count": 29,
     "metadata": {},
     "output_type": "execute_result"
    }
   ],
   "source": [
    "knn.predict(xtest)"
   ]
  },
  {
   "cell_type": "code",
   "execution_count": 30,
   "id": "50a1e179",
   "metadata": {},
   "outputs": [
    {
     "data": {
      "text/plain": [
       "0.9170756955071054"
      ]
     },
     "execution_count": 30,
     "metadata": {},
     "output_type": "execute_result"
    }
   ],
   "source": [
    "knn.score(xtrain, ytrain)"
   ]
  },
  {
   "cell_type": "code",
   "execution_count": 31,
   "id": "e0fe4535",
   "metadata": {},
   "outputs": [
    {
     "data": {
      "text/plain": [
       "0.9067857242892374"
      ]
     },
     "execution_count": 31,
     "metadata": {},
     "output_type": "execute_result"
    }
   ],
   "source": [
    "knn.score(x,y)"
   ]
  },
  {
   "cell_type": "code",
   "execution_count": 32,
   "id": "a1fa608d",
   "metadata": {},
   "outputs": [
    {
     "data": {
      "text/plain": [
       "0.8838502073708883"
      ]
     },
     "execution_count": 32,
     "metadata": {},
     "output_type": "execute_result"
    }
   ],
   "source": [
    "knn.score(xtest, ytest)"
   ]
  },
  {
   "cell_type": "code",
   "execution_count": 33,
   "id": "4a897557",
   "metadata": {},
   "outputs": [],
   "source": [
    "from sklearn.metrics import mean_squared_error # MSE\n",
    "pred = knn.predict(xtest)\n",
    "mse = mean_squared_error(ytest , pred)"
   ]
  },
  {
   "cell_type": "code",
   "execution_count": 34,
   "id": "29268598",
   "metadata": {},
   "outputs": [
    {
     "data": {
      "text/plain": [
       "123.15365863436983"
      ]
     },
     "execution_count": 34,
     "metadata": {},
     "output_type": "execute_result"
    }
   ],
   "source": [
    "mse"
   ]
  },
  {
   "cell_type": "code",
   "execution_count": 35,
   "id": "c98f111c",
   "metadata": {},
   "outputs": [
    {
     "data": {
      "text/plain": [
       "8.850747809837165"
      ]
     },
     "execution_count": 35,
     "metadata": {},
     "output_type": "execute_result"
    }
   ],
   "source": [
    "from sklearn.metrics import mean_absolute_error #MAE\n",
    "mae = mean_absolute_error(ytest, pred)\n",
    "mae"
   ]
  },
  {
   "cell_type": "markdown",
   "id": "9cec37bc",
   "metadata": {},
   "source": [
    "# RandomizedSearchCV"
   ]
  },
  {
   "cell_type": "code",
   "execution_count": 36,
   "id": "8f46164a",
   "metadata": {},
   "outputs": [],
   "source": [
    "n_neighbors= np.random.randint(5,25,5)\n",
    "weights= ['uniform', 'distance']\n",
    "algorithm = ['auto', 'ball_tree', 'kd_tree', 'brute']\n",
    "leaf_size= np.random.randint(5,50,5)\n",
    "p= [1,2]"
   ]
  },
  {
   "cell_type": "code",
   "execution_count": 37,
   "id": "2e5b607f",
   "metadata": {},
   "outputs": [],
   "source": [
    "ids= {\n",
    "    'n_neighbors':n_neighbors,\n",
    "    'weights':weights,\n",
    "    'algorithm':algorithm,\n",
    "    'leaf_size':leaf_size,\n",
    "    'p':p\n",
    "}"
   ]
  },
  {
   "cell_type": "code",
   "execution_count": 38,
   "id": "4bb01043",
   "metadata": {},
   "outputs": [
    {
     "name": "stdout",
     "output_type": "stream",
     "text": [
      "{'n_neighbors': array([24, 20, 21, 22, 17]), 'weights': ['uniform', 'distance'], 'algorithm': ['auto', 'ball_tree', 'kd_tree', 'brute'], 'leaf_size': array([42,  9, 35, 31, 38]), 'p': [1, 2]}\n"
     ]
    }
   ],
   "source": [
    "print(ids)"
   ]
  },
  {
   "cell_type": "code",
   "execution_count": 39,
   "id": "b209c20c",
   "metadata": {},
   "outputs": [],
   "source": [
    "from sklearn.model_selection import RandomizedSearchCV"
   ]
  },
  {
   "cell_type": "code",
   "execution_count": 40,
   "id": "8e5ec785",
   "metadata": {},
   "outputs": [],
   "source": [
    "rcv= RandomizedSearchCV(knn, ids, n_iter = 200, cv=3)"
   ]
  },
  {
   "cell_type": "code",
   "execution_count": 41,
   "id": "87673ff4",
   "metadata": {},
   "outputs": [
    {
     "data": {
      "text/plain": [
       "RandomizedSearchCV(cv=3, estimator=KNeighborsRegressor(), n_iter=200,\n",
       "                   param_distributions={'algorithm': ['auto', 'ball_tree',\n",
       "                                                      'kd_tree', 'brute'],\n",
       "                                        'leaf_size': array([42,  9, 35, 31, 38]),\n",
       "                                        'n_neighbors': array([24, 20, 21, 22, 17]),\n",
       "                                        'p': [1, 2],\n",
       "                                        'weights': ['uniform', 'distance']})"
      ]
     },
     "execution_count": 41,
     "metadata": {},
     "output_type": "execute_result"
    }
   ],
   "source": [
    "rcv.fit(xtrain,ytrain)"
   ]
  },
  {
   "cell_type": "code",
   "execution_count": 42,
   "id": "1def964b",
   "metadata": {},
   "outputs": [
    {
     "data": {
      "text/plain": [
       "{'mean_fit_time': array([0.00533414, 0.010439  , 0.00521994, 0.        , 0.        ,\n",
       "        0.00520754, 0.        , 0.        , 0.        , 0.        ,\n",
       "        0.        , 0.00520809, 0.        , 0.        , 0.00520794,\n",
       "        0.        , 0.        , 0.        , 0.        , 0.00521048,\n",
       "        0.        , 0.        , 0.00520905, 0.        , 0.        ,\n",
       "        0.        , 0.        , 0.00521167, 0.00520786, 0.        ,\n",
       "        0.01041524, 0.        , 0.        , 0.        , 0.00520674,\n",
       "        0.00520889, 0.01041555, 0.        , 0.01041492, 0.01043614,\n",
       "        0.        , 0.015649  , 0.01041786, 0.00520754, 0.00100001,\n",
       "        0.        , 0.        , 0.        , 0.01041555, 0.0052104 ,\n",
       "        0.00520778, 0.        , 0.00522979, 0.        , 0.00521072,\n",
       "        0.        , 0.01041691, 0.01041277, 0.0104351 , 0.00520937,\n",
       "        0.00520619, 0.01040721, 0.        , 0.        , 0.        ,\n",
       "        0.00618664, 0.00683188, 0.00745161, 0.00733074, 0.00316779,\n",
       "        0.00336281, 0.00733209, 0.00716154, 0.00649897, 0.00316676,\n",
       "        0.0084997 , 0.00699941, 0.00624673, 0.        , 0.01041611,\n",
       "        0.00520825, 0.        , 0.        , 0.        , 0.00520889,\n",
       "        0.00520762, 0.        , 0.        , 0.01561761, 0.        ,\n",
       "        0.01565393, 0.        , 0.01041778, 0.01042032, 0.        ,\n",
       "        0.00523575, 0.        , 0.00520349, 0.00382749, 0.00114425,\n",
       "        0.00802382, 0.00799712, 0.00802541, 0.00528264, 0.00530632,\n",
       "        0.00802485, 0.00802398, 0.00792734, 0.00533183, 0.00797908,\n",
       "        0.        , 0.00521851, 0.        , 0.00520889, 0.00754603,\n",
       "        0.00633327, 0.00619245, 0.01461919, 0.01057108, 0.0052352 ,\n",
       "        0.00520762, 0.00520929, 0.00521262, 0.00548418, 0.00520921,\n",
       "        0.00269055, 0.00647116, 0.00456508, 0.        , 0.00521318,\n",
       "        0.01041683, 0.        , 0.        , 0.        , 0.00467372,\n",
       "        0.00521262, 0.        , 0.        , 0.01044194, 0.        ,\n",
       "        0.00521088, 0.00523392, 0.00523353, 0.        , 0.01168553,\n",
       "        0.        , 0.        , 0.0052201 , 0.00520881, 0.01561952,\n",
       "        0.0104142 , 0.00520873, 0.        , 0.00521183, 0.0062077 ,\n",
       "        0.00650175, 0.00632898, 0.00666571, 0.00666563, 0.00216643,\n",
       "        0.0052038 , 0.00520881, 0.01041555, 0.01041722, 0.00520619,\n",
       "        0.0052077 , 0.00520833, 0.01041587, 0.        , 0.        ,\n",
       "        0.01044377, 0.00637889, 0.00629067, 0.00520635, 0.        ,\n",
       "        0.01042819, 0.00722702, 0.00520913, 0.00520778, 0.        ,\n",
       "        0.        , 0.01041476, 0.        , 0.01041563, 0.        ,\n",
       "        0.01041253, 0.00521008, 0.01041786, 0.00520802, 0.00520817,\n",
       "        0.01041659, 0.00523361, 0.00520746, 0.        , 0.0104173 ,\n",
       "        0.00520809, 0.        , 0.        , 0.00521119, 0.005193  ]),\n",
       " 'std_fit_time': array([3.77180768e-03, 7.38154175e-03, 7.38210481e-03, 0.00000000e+00,\n",
       "        0.00000000e+00, 7.36457172e-03, 0.00000000e+00, 0.00000000e+00,\n",
       "        0.00000000e+00, 0.00000000e+00, 0.00000000e+00, 7.36535846e-03,\n",
       "        0.00000000e+00, 0.00000000e+00, 7.36513368e-03, 0.00000000e+00,\n",
       "        0.00000000e+00, 0.00000000e+00, 0.00000000e+00, 7.36873021e-03,\n",
       "        0.00000000e+00, 0.00000000e+00, 7.36670716e-03, 0.00000000e+00,\n",
       "        0.00000000e+00, 0.00000000e+00, 0.00000000e+00, 7.37041608e-03,\n",
       "        7.36502129e-03, 0.00000000e+00, 7.36491721e-03, 0.00000000e+00,\n",
       "        0.00000000e+00, 0.00000000e+00, 7.36344781e-03, 7.36648238e-03,\n",
       "        7.36490890e-03, 0.00000000e+00, 7.36445934e-03, 7.37950535e-03,\n",
       "        0.00000000e+00, 4.00052514e-05, 7.36653857e-03, 7.36457172e-03,\n",
       "        1.41422345e-03, 0.00000000e+00, 0.00000000e+00, 0.00000000e+00,\n",
       "        7.36490894e-03, 7.36861782e-03, 7.36490890e-03, 0.00000000e+00,\n",
       "        7.39604137e-03, 0.00000000e+00, 7.36906739e-03, 0.00000000e+00,\n",
       "        7.36586631e-03, 7.36294212e-03, 7.37877319e-03, 7.36715673e-03,\n",
       "        7.36266106e-03, 7.35901517e-03, 0.00000000e+00, 0.00000000e+00,\n",
       "        0.00000000e+00, 6.74025883e-03, 2.35853945e-04, 3.24905035e-05,\n",
       "        4.71823173e-04, 2.34733259e-04, 1.98548367e-04, 2.35853784e-04,\n",
       "        2.30515492e-04, 4.08121557e-04, 2.36135465e-04, 1.77962970e-03,\n",
       "        4.08510707e-04, 6.75611767e-03, 0.00000000e+00, 7.36530228e-03,\n",
       "        7.36558325e-03, 0.00000000e+00, 0.00000000e+00, 0.00000000e+00,\n",
       "        7.36648238e-03, 7.36468411e-03, 0.00000000e+00, 0.00000000e+00,\n",
       "        4.77234357e-06, 0.00000000e+00, 4.13820912e-05, 0.00000000e+00,\n",
       "        7.36648518e-03, 7.36828281e-03, 0.00000000e+00, 7.40447074e-03,\n",
       "        0.00000000e+00, 7.35883975e-03, 3.52833814e-03, 1.61821420e-03,\n",
       "        3.08444806e-05, 2.64299538e-06, 3.59314017e-05, 3.73539561e-03,\n",
       "        3.75229100e-03, 7.52568118e-05, 3.11608614e-05, 1.57492672e-05,\n",
       "        3.77017831e-03, 3.95575311e-05, 0.00000000e+00, 7.38008176e-03,\n",
       "        0.00000000e+00, 7.36648238e-03, 5.72281149e-03, 2.35629001e-04,\n",
       "        2.24429358e-04, 1.41517953e-03, 7.47613494e-03, 7.40368400e-03,\n",
       "        7.36468411e-03, 7.36704434e-03, 7.37176478e-03, 7.17286171e-03,\n",
       "        7.36693194e-03, 3.80501748e-03, 3.18429412e-05, 3.09528857e-03,\n",
       "        0.00000000e+00, 7.37255152e-03, 7.36580829e-03, 0.00000000e+00,\n",
       "        0.00000000e+00, 0.00000000e+00, 6.60963737e-03, 7.37176478e-03,\n",
       "        0.00000000e+00, 0.00000000e+00, 7.38363833e-03, 0.00000000e+00,\n",
       "        7.36929217e-03, 7.40188573e-03, 7.40132377e-03, 0.00000000e+00,\n",
       "        8.40764014e-03, 0.00000000e+00, 0.00000000e+00, 7.38232959e-03,\n",
       "        7.36636999e-03, 2.03239311e-06, 7.36395411e-03, 7.36625760e-03,\n",
       "        0.00000000e+00, 7.37064087e-03, 6.76940083e-03, 9.17283445e-06,\n",
       "        2.33463642e-04, 2.35348083e-04, 2.35910040e-04, 1.54544821e-03,\n",
       "        7.35928932e-03, 7.36636999e-03, 7.36490899e-03, 7.36609020e-03,\n",
       "        7.36266106e-03, 7.36479650e-03, 7.36569564e-03, 7.36513411e-03,\n",
       "        0.00000000e+00, 0.00000000e+00, 7.38488180e-03, 6.70023055e-03,\n",
       "        6.88513114e-03, 7.36288585e-03, 0.00000000e+00, 7.37386281e-03,\n",
       "        6.43369293e-03, 7.36681955e-03, 7.36490890e-03, 0.00000000e+00,\n",
       "        0.00000000e+00, 7.36434703e-03, 0.00000000e+00, 7.36496509e-03,\n",
       "        0.00000000e+00, 7.36277562e-03, 7.36816825e-03, 7.36653859e-03,\n",
       "        7.36524607e-03, 7.36547085e-03, 7.36563955e-03, 7.40143616e-03,\n",
       "        7.36445933e-03, 0.00000000e+00, 7.36614533e-03, 7.36535846e-03,\n",
       "        0.00000000e+00, 0.00000000e+00, 7.36974173e-03, 7.34400406e-03]),\n",
       " 'mean_score_time': array([0.0264531 , 0.        , 0.02082554, 0.13016431, 0.02083111,\n",
       "        0.02603912, 0.01041603, 0.09754348, 0.01041698, 0.13207436,\n",
       "        0.01041563, 0.09894713, 0.02083111, 0.09415332, 0.00520825,\n",
       "        0.13019339, 0.01041579, 0.00520786, 0.01562293, 0.01564399,\n",
       "        0.00520762, 0.0260129 , 0.00520682, 0.0104146 , 0.02083103,\n",
       "        0.12403893, 0.03127488, 0.005205  , 0.09371058, 0.01041698,\n",
       "        0.0865744 , 0.09555109, 0.02604135, 0.23126777, 0.02083254,\n",
       "        0.29684369, 0.01562365, 0.26385212, 0.01562587, 0.01039322,\n",
       "        0.0260404 , 0.01562222, 0.02083   , 0.02083389, 0.3062772 ,\n",
       "        0.02083675, 0.29703458, 0.02083174, 0.02083087, 0.28650117,\n",
       "        0.02086091, 0.24392462, 0.02604143, 0.0312523 , 0.07810481,\n",
       "        0.02083929, 0.02083127, 0.05207872, 0.02081545, 0.02082364,\n",
       "        0.02083381, 0.01563176, 0.02787391, 0.02605557, 0.01562707,\n",
       "        0.27844437, 0.01702857, 0.0201927 , 0.01850216, 0.27333124,\n",
       "        0.27518352, 0.01769312, 0.01881019, 0.02233624, 0.26633191,\n",
       "        0.0921673 , 0.02004457, 0.06293273, 0.02603904, 0.01562333,\n",
       "        0.06772669, 0.03124555, 0.29872259, 0.28940312, 0.01562285,\n",
       "        0.02086306, 0.06541395, 0.02082674, 0.0156312 , 0.30202293,\n",
       "        0.06770269, 0.07811197, 0.06769315, 0.01041746, 0.2518998 ,\n",
       "        0.06770293, 0.01562134, 0.02083842, 0.26120559, 0.25726604,\n",
       "        0.02399707, 0.01864513, 0.06400339, 0.02138511, 0.25369104,\n",
       "        0.07483466, 0.01863305, 0.01874709, 0.02133226, 0.02400422,\n",
       "        0.26487406, 0.0260404 , 0.07290792, 0.01041309, 0.30434394,\n",
       "        0.02136294, 0.06938823, 0.01569637, 0.00142193, 0.0425632 ,\n",
       "        0.02083635, 0.04026437, 0.02288699, 0.02086822, 0.02080568,\n",
       "        0.30533568, 0.05452387, 0.06001226, 0.03124388, 0.07287884,\n",
       "        0.01562087, 0.0625248 , 0.27148938, 0.03171508, 0.04706144,\n",
       "        0.25517996, 0.07288043, 0.27080623, 0.01562754, 0.0208292 ,\n",
       "        0.01041619, 0.24470774, 0.01562413, 0.01562023, 0.02120558,\n",
       "        0.2708029 , 0.03127432, 0.01561173, 0.02082992, 0.01562738,\n",
       "        0.05207713, 0.02083023, 0.04686697, 0.02083325, 0.26504215,\n",
       "        0.05199567, 0.07370186, 0.04816834, 0.01666991, 0.25059946,\n",
       "        0.0260404 , 0.01562126, 0.29817422, 0.02083286, 0.01562285,\n",
       "        0.01562349, 0.21872663, 0.03645293, 0.24999658, 0.02601941,\n",
       "        0.01559472, 0.2646331 , 0.28940248, 0.02085741, 0.25692495,\n",
       "        0.01563605, 0.24610718, 0.06769975, 0.02083119, 0.29684361,\n",
       "        0.02604111, 0.0208292 , 0.06336276, 0.01562373, 0.25025853,\n",
       "        0.06770126, 0.04185518, 0.06772558, 0.29681738, 0.02083294,\n",
       "        0.01041404, 0.24964126, 0.04686785, 0.0624938 , 0.08126259,\n",
       "        0.22944331, 0.06249301, 0.02088428, 0.02083286, 0.01563271]),\n",
       " 'std_score_time': array([3.38944583e-03, 0.00000000e+00, 7.37677200e-03, 7.38714166e-03,\n",
       "        7.36423455e-03, 7.36609189e-03, 7.36524608e-03, 5.37996109e-03,\n",
       "        7.36593413e-03, 6.04652631e-03, 7.36496509e-03, 7.36384118e-03,\n",
       "        7.36356086e-03, 5.82862850e-04, 7.36558325e-03, 7.36479651e-03,\n",
       "        7.36507759e-03, 7.36502129e-03, 1.94992131e-06, 3.36281966e-05,\n",
       "        7.36468411e-03, 7.34593175e-03, 7.36356020e-03, 7.36423464e-03,\n",
       "        7.36479651e-03, 4.44618509e-03, 4.00686680e-05, 7.36097519e-03,\n",
       "        3.99161091e-05, 7.36592046e-03, 6.46479408e-03, 2.55640461e-03,\n",
       "        7.36598603e-03, 8.16922755e-02, 7.36946083e-03, 1.27315970e-02,\n",
       "        6.10132145e-06, 2.47318014e-03, 4.29300589e-06, 7.34929149e-03,\n",
       "        7.36749564e-03, 1.62093465e-06, 7.36165067e-03, 7.36260776e-03,\n",
       "        6.59632995e-03, 7.37019134e-03, 1.30592804e-02, 7.36445933e-03,\n",
       "        7.36558325e-03, 1.95839400e-02, 7.35199406e-03, 1.53017732e-02,\n",
       "        7.35895307e-03, 1.14512642e-05, 5.69660217e-06, 7.36856216e-03,\n",
       "        7.36024562e-03, 7.36558485e-03, 7.38241120e-03, 7.35688534e-03,\n",
       "        7.36266107e-03, 6.93830382e-06, 8.88565816e-03, 7.33995833e-03,\n",
       "        4.70864454e-05, 3.11085553e-02, 3.82694622e-05, 4.41756980e-04,\n",
       "        4.08510707e-04, 1.17414001e-02, 6.94939109e-03, 6.54891190e-04,\n",
       "        5.99807834e-04, 2.01215597e-03, 9.87808403e-03, 1.39766060e-02,\n",
       "        7.99143394e-04, 1.32792525e-02, 7.36535847e-03, 1.46971083e-06,\n",
       "        1.46946794e-02, 2.76218211e-06, 1.30690660e-02, 1.91670773e-02,\n",
       "        2.24502037e-06, 7.34897524e-03, 4.13648989e-03, 1.47267271e-02,\n",
       "        1.11011951e-05, 7.32713039e-03, 7.36749391e-03, 9.38923994e-06,\n",
       "        7.35333417e-03, 7.36625762e-03, 2.35163205e-02, 1.47442605e-02,\n",
       "        1.27535739e-02, 7.36361639e-03, 1.26895635e-02, 2.03027636e-02,\n",
       "        4.22478799e-06, 3.83581362e-03, 6.54328583e-05, 3.74991730e-03,\n",
       "        4.04824634e-03, 3.65056841e-03, 3.79636060e-03, 3.76591102e-03,\n",
       "        3.75883182e-03, 2.26794433e-05, 1.41355433e-02, 7.40686858e-03,\n",
       "        7.36423492e-03, 7.36316688e-03, 1.13404825e-02, 2.12272916e-04,\n",
       "        2.42666122e-03, 1.05929839e-04, 2.01091044e-03, 9.80420911e-03,\n",
       "        7.37182099e-03, 6.60552415e-03, 6.42598950e-03, 7.33779593e-03,\n",
       "        7.32911225e-03, 7.47372887e-03, 3.04984791e-03, 3.20201865e-03,\n",
       "        6.34872261e-05, 7.40385438e-03, 2.18803086e-06, 3.11888198e-05,\n",
       "        7.96509270e-03, 6.62436096e-04, 1.27961161e-02, 7.39858280e-03,\n",
       "        7.40514529e-03, 7.36462803e-03, 1.61777542e-05, 7.36558461e-03,\n",
       "        7.36536804e-03, 7.32928078e-03, 1.27564938e-02, 1.27619521e-02,\n",
       "        7.11520023e-03, 7.31866104e-03, 4.56648867e-05, 1.40920418e-05,\n",
       "        7.36035704e-03, 3.42195036e-06, 7.36451581e-03, 7.36638332e-03,\n",
       "        1.27552309e-02, 7.36288651e-03, 1.56234707e-02, 1.47512615e-03,\n",
       "        4.10518715e-03, 8.51294169e-04, 8.48387968e-04, 1.83967387e-02,\n",
       "        7.36193194e-03, 6.48373860e-06, 1.14771197e-02, 7.36637024e-03,\n",
       "        3.09025798e-06, 8.77806426e-07, 3.37504733e-02, 7.36462793e-03,\n",
       "        3.37621103e-02, 7.40171822e-03, 2.73097702e-05, 1.42854363e-02,\n",
       "        1.65236653e-02, 7.34721622e-03, 6.55162024e-03, 1.81097008e-05,\n",
       "        3.23490382e-02, 7.36417923e-03, 7.36215532e-03, 1.27556177e-02,\n",
       "        7.36773629e-03, 7.36676434e-03, 1.32527947e-02, 1.58547857e-06,\n",
       "        3.33632180e-02, 7.36479655e-03, 7.08764140e-03, 7.40272868e-03,\n",
       "        2.55159018e-02, 7.36344793e-03, 7.36384188e-03, 4.41287407e-04,\n",
       "        4.59020267e-06, 1.27589276e-02, 2.46672029e-03, 2.69646650e-02,\n",
       "        3.01787655e-06, 7.38623682e-03, 7.37227101e-03, 2.28851480e-05]),\n",
       " 'param_weights': masked_array(data=['uniform', 'uniform', 'uniform', 'distance',\n",
       "                    'distance', 'distance', 'distance', 'distance',\n",
       "                    'distance', 'distance', 'distance', 'uniform',\n",
       "                    'uniform', 'uniform', 'uniform', 'uniform', 'distance',\n",
       "                    'uniform', 'distance', 'distance', 'uniform',\n",
       "                    'distance', 'uniform', 'distance', 'uniform',\n",
       "                    'uniform', 'uniform', 'uniform', 'distance', 'uniform',\n",
       "                    'distance', 'uniform', 'uniform', 'uniform', 'uniform',\n",
       "                    'uniform', 'distance', 'uniform', 'distance',\n",
       "                    'uniform', 'uniform', 'distance', 'distance',\n",
       "                    'distance', 'uniform', 'distance', 'uniform',\n",
       "                    'distance', 'uniform', 'uniform', 'uniform', 'uniform',\n",
       "                    'uniform', 'distance', 'distance', 'uniform',\n",
       "                    'distance', 'distance', 'distance', 'uniform',\n",
       "                    'distance', 'uniform', 'uniform', 'distance',\n",
       "                    'distance', 'uniform', 'uniform', 'distance',\n",
       "                    'uniform', 'uniform', 'uniform', 'uniform', 'uniform',\n",
       "                    'distance', 'uniform', 'uniform', 'distance',\n",
       "                    'uniform', 'distance', 'uniform', 'distance',\n",
       "                    'uniform', 'distance', 'distance', 'uniform',\n",
       "                    'uniform', 'distance', 'uniform', 'uniform', 'uniform',\n",
       "                    'distance', 'uniform', 'distance', 'distance',\n",
       "                    'uniform', 'uniform', 'distance', 'distance',\n",
       "                    'distance', 'uniform', 'distance', 'uniform',\n",
       "                    'uniform', 'distance', 'uniform', 'uniform', 'uniform',\n",
       "                    'distance', 'uniform', 'distance', 'distance',\n",
       "                    'distance', 'distance', 'distance', 'distance',\n",
       "                    'distance', 'uniform', 'distance', 'uniform',\n",
       "                    'uniform', 'uniform', 'distance', 'uniform', 'uniform',\n",
       "                    'uniform', 'distance', 'distance', 'distance',\n",
       "                    'uniform', 'distance', 'uniform', 'uniform',\n",
       "                    'distance', 'distance', 'uniform', 'uniform',\n",
       "                    'uniform', 'uniform', 'uniform', 'uniform', 'uniform',\n",
       "                    'distance', 'uniform', 'distance', 'distance',\n",
       "                    'distance', 'uniform', 'distance', 'distance',\n",
       "                    'distance', 'distance', 'distance', 'uniform',\n",
       "                    'distance', 'distance', 'uniform', 'uniform',\n",
       "                    'uniform', 'distance', 'distance', 'uniform',\n",
       "                    'uniform', 'distance', 'uniform', 'uniform', 'uniform',\n",
       "                    'distance', 'distance', 'distance', 'uniform',\n",
       "                    'uniform', 'distance', 'uniform', 'uniform', 'uniform',\n",
       "                    'uniform', 'distance', 'uniform', 'uniform',\n",
       "                    'distance', 'uniform', 'distance', 'distance',\n",
       "                    'distance', 'distance', 'uniform', 'distance',\n",
       "                    'uniform', 'uniform', 'uniform', 'distance',\n",
       "                    'distance', 'uniform', 'distance', 'distance',\n",
       "                    'uniform', 'uniform', 'distance', 'distance',\n",
       "                    'uniform'],\n",
       "              mask=[False, False, False, False, False, False, False, False,\n",
       "                    False, False, False, False, False, False, False, False,\n",
       "                    False, False, False, False, False, False, False, False,\n",
       "                    False, False, False, False, False, False, False, False,\n",
       "                    False, False, False, False, False, False, False, False,\n",
       "                    False, False, False, False, False, False, False, False,\n",
       "                    False, False, False, False, False, False, False, False,\n",
       "                    False, False, False, False, False, False, False, False,\n",
       "                    False, False, False, False, False, False, False, False,\n",
       "                    False, False, False, False, False, False, False, False,\n",
       "                    False, False, False, False, False, False, False, False,\n",
       "                    False, False, False, False, False, False, False, False,\n",
       "                    False, False, False, False, False, False, False, False,\n",
       "                    False, False, False, False, False, False, False, False,\n",
       "                    False, False, False, False, False, False, False, False,\n",
       "                    False, False, False, False, False, False, False, False,\n",
       "                    False, False, False, False, False, False, False, False,\n",
       "                    False, False, False, False, False, False, False, False,\n",
       "                    False, False, False, False, False, False, False, False,\n",
       "                    False, False, False, False, False, False, False, False,\n",
       "                    False, False, False, False, False, False, False, False,\n",
       "                    False, False, False, False, False, False, False, False,\n",
       "                    False, False, False, False, False, False, False, False,\n",
       "                    False, False, False, False, False, False, False, False,\n",
       "                    False, False, False, False, False, False, False, False],\n",
       "        fill_value='?',\n",
       "             dtype=object),\n",
       " 'param_p': masked_array(data=[2, 2, 2, 2, 1, 1, 1, 1, 2, 2, 2, 1, 2, 1, 2, 2, 1, 1,\n",
       "                    1, 2, 2, 2, 2, 1, 1, 2, 2, 1, 1, 1, 1, 1, 2, 2, 1, 2,\n",
       "                    2, 1, 1, 1, 2, 1, 2, 2, 2, 2, 2, 1, 2, 2, 1, 1, 1, 1,\n",
       "                    2, 2, 2, 1, 1, 2, 2, 2, 1, 1, 1, 2, 1, 2, 1, 1, 1, 1,\n",
       "                    2, 1, 1, 2, 1, 1, 2, 1, 1, 2, 2, 2, 2, 1, 2, 2, 1, 2,\n",
       "                    2, 2, 2, 1, 1, 1, 1, 2, 1, 1, 1, 2, 2, 1, 1, 2, 2, 1,\n",
       "                    2, 1, 1, 2, 2, 1, 2, 1, 2, 1, 2, 1, 2, 2, 1, 2, 1, 2,\n",
       "                    1, 1, 1, 1, 2, 1, 1, 1, 2, 1, 1, 1, 2, 2, 1, 1, 1, 2,\n",
       "                    1, 1, 1, 1, 2, 1, 1, 2, 1, 1, 1, 2, 2, 2, 1, 1, 2, 1,\n",
       "                    2, 2, 1, 1, 1, 1, 1, 2, 1, 1, 2, 2, 1, 2, 1, 2, 1, 2,\n",
       "                    1, 2, 1, 2, 1, 1, 2, 1, 2, 1, 2, 1, 2, 2, 1, 1, 1, 2,\n",
       "                    2, 2],\n",
       "              mask=[False, False, False, False, False, False, False, False,\n",
       "                    False, False, False, False, False, False, False, False,\n",
       "                    False, False, False, False, False, False, False, False,\n",
       "                    False, False, False, False, False, False, False, False,\n",
       "                    False, False, False, False, False, False, False, False,\n",
       "                    False, False, False, False, False, False, False, False,\n",
       "                    False, False, False, False, False, False, False, False,\n",
       "                    False, False, False, False, False, False, False, False,\n",
       "                    False, False, False, False, False, False, False, False,\n",
       "                    False, False, False, False, False, False, False, False,\n",
       "                    False, False, False, False, False, False, False, False,\n",
       "                    False, False, False, False, False, False, False, False,\n",
       "                    False, False, False, False, False, False, False, False,\n",
       "                    False, False, False, False, False, False, False, False,\n",
       "                    False, False, False, False, False, False, False, False,\n",
       "                    False, False, False, False, False, False, False, False,\n",
       "                    False, False, False, False, False, False, False, False,\n",
       "                    False, False, False, False, False, False, False, False,\n",
       "                    False, False, False, False, False, False, False, False,\n",
       "                    False, False, False, False, False, False, False, False,\n",
       "                    False, False, False, False, False, False, False, False,\n",
       "                    False, False, False, False, False, False, False, False,\n",
       "                    False, False, False, False, False, False, False, False,\n",
       "                    False, False, False, False, False, False, False, False,\n",
       "                    False, False, False, False, False, False, False, False],\n",
       "        fill_value='?',\n",
       "             dtype=object),\n",
       " 'param_n_neighbors': masked_array(data=[21, 20, 24, 21, 21, 21, 20, 21, 24, 22, 24, 20, 20, 20,\n",
       "                    21, 24, 21, 20, 20, 21, 22, 20, 22, 21, 21, 24, 24, 21,\n",
       "                    21, 22, 24, 22, 21, 22, 24, 20, 21, 24, 24, 17, 20, 22,\n",
       "                    22, 17, 17, 20, 21, 17, 24, 21, 20, 21, 22, 22, 24, 21,\n",
       "                    22, 22, 21, 20, 20, 24, 22, 24, 17, 20, 17, 22, 22, 24,\n",
       "                    20, 22, 22, 24, 17, 20, 24, 22, 21, 21, 17, 24, 22, 24,\n",
       "                    21, 20, 20, 20, 24, 22, 21, 22, 22, 21, 24, 24, 21, 20,\n",
       "                    22, 21, 22, 21, 17, 20, 17, 24, 24, 21, 22, 22, 20, 22,\n",
       "                    21, 24, 21, 20, 20, 21, 20, 17, 21, 17, 21, 21, 20, 22,\n",
       "                    20, 24, 22, 24, 17, 21, 24, 24, 22, 21, 21, 17, 17, 21,\n",
       "                    20, 22, 17, 20, 22, 21, 24, 20, 17, 24, 20, 17, 17, 17,\n",
       "                    17, 17, 22, 17, 17, 17, 24, 21, 24, 20, 21, 17, 22, 17,\n",
       "                    22, 21, 17, 20, 22, 17, 22, 20, 24, 17, 22, 24, 21, 24,\n",
       "                    20, 20, 21, 17, 24, 20, 21, 21, 22, 17, 22, 22, 22, 22,\n",
       "                    20, 24, 20, 17],\n",
       "              mask=[False, False, False, False, False, False, False, False,\n",
       "                    False, False, False, False, False, False, False, False,\n",
       "                    False, False, False, False, False, False, False, False,\n",
       "                    False, False, False, False, False, False, False, False,\n",
       "                    False, False, False, False, False, False, False, False,\n",
       "                    False, False, False, False, False, False, False, False,\n",
       "                    False, False, False, False, False, False, False, False,\n",
       "                    False, False, False, False, False, False, False, False,\n",
       "                    False, False, False, False, False, False, False, False,\n",
       "                    False, False, False, False, False, False, False, False,\n",
       "                    False, False, False, False, False, False, False, False,\n",
       "                    False, False, False, False, False, False, False, False,\n",
       "                    False, False, False, False, False, False, False, False,\n",
       "                    False, False, False, False, False, False, False, False,\n",
       "                    False, False, False, False, False, False, False, False,\n",
       "                    False, False, False, False, False, False, False, False,\n",
       "                    False, False, False, False, False, False, False, False,\n",
       "                    False, False, False, False, False, False, False, False,\n",
       "                    False, False, False, False, False, False, False, False,\n",
       "                    False, False, False, False, False, False, False, False,\n",
       "                    False, False, False, False, False, False, False, False,\n",
       "                    False, False, False, False, False, False, False, False,\n",
       "                    False, False, False, False, False, False, False, False,\n",
       "                    False, False, False, False, False, False, False, False,\n",
       "                    False, False, False, False, False, False, False, False],\n",
       "        fill_value='?',\n",
       "             dtype=object),\n",
       " 'param_leaf_size': masked_array(data=[38, 9, 38, 31, 9, 38, 9, 42, 42, 38, 35, 9, 35, 42, 31,\n",
       "                    31, 31, 31, 38, 9, 35, 42, 35, 38, 9, 35, 35, 35, 9,\n",
       "                    42, 9, 35, 42, 38, 38, 42, 31, 42, 9, 31, 42, 35, 35,\n",
       "                    35, 42, 42, 31, 38, 42, 9, 42, 35, 38, 42, 38, 42, 38,\n",
       "                    31, 35, 31, 31, 9, 42, 42, 42, 31, 31, 9, 9, 9, 31, 9,\n",
       "                    9, 35, 38, 42, 31, 42, 38, 31, 35, 35, 31, 9, 42, 42,\n",
       "                    31, 38, 35, 9, 38, 38, 38, 38, 31, 38, 31, 35, 31, 42,\n",
       "                    38, 9, 35, 35, 9, 42, 31, 9, 38, 38, 38, 42, 35, 9, 38,\n",
       "                    35, 38, 42, 9, 9, 38, 9, 42, 31, 38, 9, 31, 31, 38, 35,\n",
       "                    42, 31, 42, 42, 31, 9, 42, 35, 9, 35, 31, 42, 35, 38,\n",
       "                    42, 35, 35, 31, 35, 38, 9, 42, 31, 42, 38, 31, 35, 9,\n",
       "                    31, 31, 35, 9, 35, 35, 38, 9, 38, 9, 9, 38, 38, 35, 35,\n",
       "                    35, 31, 31, 35, 38, 31, 31, 42, 9, 42, 35, 31, 38, 9,\n",
       "                    35, 42, 35, 35, 42, 9, 35, 42, 9, 31, 35, 38, 9],\n",
       "              mask=[False, False, False, False, False, False, False, False,\n",
       "                    False, False, False, False, False, False, False, False,\n",
       "                    False, False, False, False, False, False, False, False,\n",
       "                    False, False, False, False, False, False, False, False,\n",
       "                    False, False, False, False, False, False, False, False,\n",
       "                    False, False, False, False, False, False, False, False,\n",
       "                    False, False, False, False, False, False, False, False,\n",
       "                    False, False, False, False, False, False, False, False,\n",
       "                    False, False, False, False, False, False, False, False,\n",
       "                    False, False, False, False, False, False, False, False,\n",
       "                    False, False, False, False, False, False, False, False,\n",
       "                    False, False, False, False, False, False, False, False,\n",
       "                    False, False, False, False, False, False, False, False,\n",
       "                    False, False, False, False, False, False, False, False,\n",
       "                    False, False, False, False, False, False, False, False,\n",
       "                    False, False, False, False, False, False, False, False,\n",
       "                    False, False, False, False, False, False, False, False,\n",
       "                    False, False, False, False, False, False, False, False,\n",
       "                    False, False, False, False, False, False, False, False,\n",
       "                    False, False, False, False, False, False, False, False,\n",
       "                    False, False, False, False, False, False, False, False,\n",
       "                    False, False, False, False, False, False, False, False,\n",
       "                    False, False, False, False, False, False, False, False,\n",
       "                    False, False, False, False, False, False, False, False,\n",
       "                    False, False, False, False, False, False, False, False],\n",
       "        fill_value='?',\n",
       "             dtype=object),\n",
       " 'param_algorithm': masked_array(data=['ball_tree', 'auto', 'ball_tree', 'brute', 'ball_tree',\n",
       "                    'ball_tree', 'auto', 'brute', 'kd_tree', 'brute',\n",
       "                    'kd_tree', 'brute', 'ball_tree', 'brute', 'kd_tree',\n",
       "                    'brute', 'auto', 'auto', 'auto', 'ball_tree', 'auto',\n",
       "                    'ball_tree', 'kd_tree', 'auto', 'ball_tree', 'brute',\n",
       "                    'ball_tree', 'kd_tree', 'brute', 'auto', 'brute',\n",
       "                    'brute', 'ball_tree', 'brute', 'kd_tree', 'brute',\n",
       "                    'auto', 'brute', 'kd_tree', 'kd_tree', 'auto',\n",
       "                    'kd_tree', 'auto', 'kd_tree', 'brute', 'auto', 'brute',\n",
       "                    'auto', 'kd_tree', 'brute', 'auto', 'brute', 'kd_tree',\n",
       "                    'auto', 'ball_tree', 'auto', 'auto', 'ball_tree',\n",
       "                    'kd_tree', 'kd_tree', 'auto', 'auto', 'kd_tree',\n",
       "                    'auto', 'auto', 'brute', 'auto', 'kd_tree', 'kd_tree',\n",
       "                    'brute', 'brute', 'auto', 'kd_tree', 'auto', 'brute',\n",
       "                    'ball_tree', 'kd_tree', 'ball_tree', 'kd_tree',\n",
       "                    'kd_tree', 'ball_tree', 'auto', 'brute', 'brute',\n",
       "                    'kd_tree', 'kd_tree', 'ball_tree', 'auto', 'auto',\n",
       "                    'brute', 'ball_tree', 'ball_tree', 'ball_tree',\n",
       "                    'kd_tree', 'brute', 'ball_tree', 'kd_tree', 'auto',\n",
       "                    'brute', 'brute', 'auto', 'kd_tree', 'ball_tree',\n",
       "                    'kd_tree', 'brute', 'ball_tree', 'kd_tree', 'auto',\n",
       "                    'kd_tree', 'kd_tree', 'brute', 'kd_tree', 'ball_tree',\n",
       "                    'auto', 'brute', 'auto', 'ball_tree', 'kd_tree',\n",
       "                    'kd_tree', 'ball_tree', 'kd_tree', 'ball_tree', 'auto',\n",
       "                    'auto', 'auto', 'brute', 'ball_tree', 'ball_tree',\n",
       "                    'auto', 'ball_tree', 'kd_tree', 'ball_tree', 'brute',\n",
       "                    'kd_tree', 'ball_tree', 'brute', 'ball_tree', 'brute',\n",
       "                    'kd_tree', 'kd_tree', 'kd_tree', 'brute', 'kd_tree',\n",
       "                    'kd_tree', 'kd_tree', 'brute', 'kd_tree', 'kd_tree',\n",
       "                    'auto', 'kd_tree', 'ball_tree', 'kd_tree', 'ball_tree',\n",
       "                    'kd_tree', 'brute', 'ball_tree', 'ball_tree',\n",
       "                    'ball_tree', 'kd_tree', 'brute', 'kd_tree', 'kd_tree',\n",
       "                    'brute', 'auto', 'kd_tree', 'kd_tree', 'brute',\n",
       "                    'ball_tree', 'brute', 'auto', 'kd_tree', 'brute',\n",
       "                    'brute', 'auto', 'brute', 'auto', 'brute', 'ball_tree',\n",
       "                    'kd_tree', 'brute', 'kd_tree', 'kd_tree', 'ball_tree',\n",
       "                    'kd_tree', 'brute', 'ball_tree', 'ball_tree',\n",
       "                    'ball_tree', 'brute', 'auto', 'kd_tree', 'brute',\n",
       "                    'ball_tree', 'ball_tree', 'ball_tree', 'brute',\n",
       "                    'ball_tree', 'auto', 'auto', 'auto'],\n",
       "              mask=[False, False, False, False, False, False, False, False,\n",
       "                    False, False, False, False, False, False, False, False,\n",
       "                    False, False, False, False, False, False, False, False,\n",
       "                    False, False, False, False, False, False, False, False,\n",
       "                    False, False, False, False, False, False, False, False,\n",
       "                    False, False, False, False, False, False, False, False,\n",
       "                    False, False, False, False, False, False, False, False,\n",
       "                    False, False, False, False, False, False, False, False,\n",
       "                    False, False, False, False, False, False, False, False,\n",
       "                    False, False, False, False, False, False, False, False,\n",
       "                    False, False, False, False, False, False, False, False,\n",
       "                    False, False, False, False, False, False, False, False,\n",
       "                    False, False, False, False, False, False, False, False,\n",
       "                    False, False, False, False, False, False, False, False,\n",
       "                    False, False, False, False, False, False, False, False,\n",
       "                    False, False, False, False, False, False, False, False,\n",
       "                    False, False, False, False, False, False, False, False,\n",
       "                    False, False, False, False, False, False, False, False,\n",
       "                    False, False, False, False, False, False, False, False,\n",
       "                    False, False, False, False, False, False, False, False,\n",
       "                    False, False, False, False, False, False, False, False,\n",
       "                    False, False, False, False, False, False, False, False,\n",
       "                    False, False, False, False, False, False, False, False,\n",
       "                    False, False, False, False, False, False, False, False,\n",
       "                    False, False, False, False, False, False, False, False],\n",
       "        fill_value='?',\n",
       "             dtype=object),\n",
       " 'params': [{'weights': 'uniform',\n",
       "   'p': 2,\n",
       "   'n_neighbors': 21,\n",
       "   'leaf_size': 38,\n",
       "   'algorithm': 'ball_tree'},\n",
       "  {'weights': 'uniform',\n",
       "   'p': 2,\n",
       "   'n_neighbors': 20,\n",
       "   'leaf_size': 9,\n",
       "   'algorithm': 'auto'},\n",
       "  {'weights': 'uniform',\n",
       "   'p': 2,\n",
       "   'n_neighbors': 24,\n",
       "   'leaf_size': 38,\n",
       "   'algorithm': 'ball_tree'},\n",
       "  {'weights': 'distance',\n",
       "   'p': 2,\n",
       "   'n_neighbors': 21,\n",
       "   'leaf_size': 31,\n",
       "   'algorithm': 'brute'},\n",
       "  {'weights': 'distance',\n",
       "   'p': 1,\n",
       "   'n_neighbors': 21,\n",
       "   'leaf_size': 9,\n",
       "   'algorithm': 'ball_tree'},\n",
       "  {'weights': 'distance',\n",
       "   'p': 1,\n",
       "   'n_neighbors': 21,\n",
       "   'leaf_size': 38,\n",
       "   'algorithm': 'ball_tree'},\n",
       "  {'weights': 'distance',\n",
       "   'p': 1,\n",
       "   'n_neighbors': 20,\n",
       "   'leaf_size': 9,\n",
       "   'algorithm': 'auto'},\n",
       "  {'weights': 'distance',\n",
       "   'p': 1,\n",
       "   'n_neighbors': 21,\n",
       "   'leaf_size': 42,\n",
       "   'algorithm': 'brute'},\n",
       "  {'weights': 'distance',\n",
       "   'p': 2,\n",
       "   'n_neighbors': 24,\n",
       "   'leaf_size': 42,\n",
       "   'algorithm': 'kd_tree'},\n",
       "  {'weights': 'distance',\n",
       "   'p': 2,\n",
       "   'n_neighbors': 22,\n",
       "   'leaf_size': 38,\n",
       "   'algorithm': 'brute'},\n",
       "  {'weights': 'distance',\n",
       "   'p': 2,\n",
       "   'n_neighbors': 24,\n",
       "   'leaf_size': 35,\n",
       "   'algorithm': 'kd_tree'},\n",
       "  {'weights': 'uniform',\n",
       "   'p': 1,\n",
       "   'n_neighbors': 20,\n",
       "   'leaf_size': 9,\n",
       "   'algorithm': 'brute'},\n",
       "  {'weights': 'uniform',\n",
       "   'p': 2,\n",
       "   'n_neighbors': 20,\n",
       "   'leaf_size': 35,\n",
       "   'algorithm': 'ball_tree'},\n",
       "  {'weights': 'uniform',\n",
       "   'p': 1,\n",
       "   'n_neighbors': 20,\n",
       "   'leaf_size': 42,\n",
       "   'algorithm': 'brute'},\n",
       "  {'weights': 'uniform',\n",
       "   'p': 2,\n",
       "   'n_neighbors': 21,\n",
       "   'leaf_size': 31,\n",
       "   'algorithm': 'kd_tree'},\n",
       "  {'weights': 'uniform',\n",
       "   'p': 2,\n",
       "   'n_neighbors': 24,\n",
       "   'leaf_size': 31,\n",
       "   'algorithm': 'brute'},\n",
       "  {'weights': 'distance',\n",
       "   'p': 1,\n",
       "   'n_neighbors': 21,\n",
       "   'leaf_size': 31,\n",
       "   'algorithm': 'auto'},\n",
       "  {'weights': 'uniform',\n",
       "   'p': 1,\n",
       "   'n_neighbors': 20,\n",
       "   'leaf_size': 31,\n",
       "   'algorithm': 'auto'},\n",
       "  {'weights': 'distance',\n",
       "   'p': 1,\n",
       "   'n_neighbors': 20,\n",
       "   'leaf_size': 38,\n",
       "   'algorithm': 'auto'},\n",
       "  {'weights': 'distance',\n",
       "   'p': 2,\n",
       "   'n_neighbors': 21,\n",
       "   'leaf_size': 9,\n",
       "   'algorithm': 'ball_tree'},\n",
       "  {'weights': 'uniform',\n",
       "   'p': 2,\n",
       "   'n_neighbors': 22,\n",
       "   'leaf_size': 35,\n",
       "   'algorithm': 'auto'},\n",
       "  {'weights': 'distance',\n",
       "   'p': 2,\n",
       "   'n_neighbors': 20,\n",
       "   'leaf_size': 42,\n",
       "   'algorithm': 'ball_tree'},\n",
       "  {'weights': 'uniform',\n",
       "   'p': 2,\n",
       "   'n_neighbors': 22,\n",
       "   'leaf_size': 35,\n",
       "   'algorithm': 'kd_tree'},\n",
       "  {'weights': 'distance',\n",
       "   'p': 1,\n",
       "   'n_neighbors': 21,\n",
       "   'leaf_size': 38,\n",
       "   'algorithm': 'auto'},\n",
       "  {'weights': 'uniform',\n",
       "   'p': 1,\n",
       "   'n_neighbors': 21,\n",
       "   'leaf_size': 9,\n",
       "   'algorithm': 'ball_tree'},\n",
       "  {'weights': 'uniform',\n",
       "   'p': 2,\n",
       "   'n_neighbors': 24,\n",
       "   'leaf_size': 35,\n",
       "   'algorithm': 'brute'},\n",
       "  {'weights': 'uniform',\n",
       "   'p': 2,\n",
       "   'n_neighbors': 24,\n",
       "   'leaf_size': 35,\n",
       "   'algorithm': 'ball_tree'},\n",
       "  {'weights': 'uniform',\n",
       "   'p': 1,\n",
       "   'n_neighbors': 21,\n",
       "   'leaf_size': 35,\n",
       "   'algorithm': 'kd_tree'},\n",
       "  {'weights': 'distance',\n",
       "   'p': 1,\n",
       "   'n_neighbors': 21,\n",
       "   'leaf_size': 9,\n",
       "   'algorithm': 'brute'},\n",
       "  {'weights': 'uniform',\n",
       "   'p': 1,\n",
       "   'n_neighbors': 22,\n",
       "   'leaf_size': 42,\n",
       "   'algorithm': 'auto'},\n",
       "  {'weights': 'distance',\n",
       "   'p': 1,\n",
       "   'n_neighbors': 24,\n",
       "   'leaf_size': 9,\n",
       "   'algorithm': 'brute'},\n",
       "  {'weights': 'uniform',\n",
       "   'p': 1,\n",
       "   'n_neighbors': 22,\n",
       "   'leaf_size': 35,\n",
       "   'algorithm': 'brute'},\n",
       "  {'weights': 'uniform',\n",
       "   'p': 2,\n",
       "   'n_neighbors': 21,\n",
       "   'leaf_size': 42,\n",
       "   'algorithm': 'ball_tree'},\n",
       "  {'weights': 'uniform',\n",
       "   'p': 2,\n",
       "   'n_neighbors': 22,\n",
       "   'leaf_size': 38,\n",
       "   'algorithm': 'brute'},\n",
       "  {'weights': 'uniform',\n",
       "   'p': 1,\n",
       "   'n_neighbors': 24,\n",
       "   'leaf_size': 38,\n",
       "   'algorithm': 'kd_tree'},\n",
       "  {'weights': 'uniform',\n",
       "   'p': 2,\n",
       "   'n_neighbors': 20,\n",
       "   'leaf_size': 42,\n",
       "   'algorithm': 'brute'},\n",
       "  {'weights': 'distance',\n",
       "   'p': 2,\n",
       "   'n_neighbors': 21,\n",
       "   'leaf_size': 31,\n",
       "   'algorithm': 'auto'},\n",
       "  {'weights': 'uniform',\n",
       "   'p': 1,\n",
       "   'n_neighbors': 24,\n",
       "   'leaf_size': 42,\n",
       "   'algorithm': 'brute'},\n",
       "  {'weights': 'distance',\n",
       "   'p': 1,\n",
       "   'n_neighbors': 24,\n",
       "   'leaf_size': 9,\n",
       "   'algorithm': 'kd_tree'},\n",
       "  {'weights': 'uniform',\n",
       "   'p': 1,\n",
       "   'n_neighbors': 17,\n",
       "   'leaf_size': 31,\n",
       "   'algorithm': 'kd_tree'},\n",
       "  {'weights': 'uniform',\n",
       "   'p': 2,\n",
       "   'n_neighbors': 20,\n",
       "   'leaf_size': 42,\n",
       "   'algorithm': 'auto'},\n",
       "  {'weights': 'distance',\n",
       "   'p': 1,\n",
       "   'n_neighbors': 22,\n",
       "   'leaf_size': 35,\n",
       "   'algorithm': 'kd_tree'},\n",
       "  {'weights': 'distance',\n",
       "   'p': 2,\n",
       "   'n_neighbors': 22,\n",
       "   'leaf_size': 35,\n",
       "   'algorithm': 'auto'},\n",
       "  {'weights': 'distance',\n",
       "   'p': 2,\n",
       "   'n_neighbors': 17,\n",
       "   'leaf_size': 35,\n",
       "   'algorithm': 'kd_tree'},\n",
       "  {'weights': 'uniform',\n",
       "   'p': 2,\n",
       "   'n_neighbors': 17,\n",
       "   'leaf_size': 42,\n",
       "   'algorithm': 'brute'},\n",
       "  {'weights': 'distance',\n",
       "   'p': 2,\n",
       "   'n_neighbors': 20,\n",
       "   'leaf_size': 42,\n",
       "   'algorithm': 'auto'},\n",
       "  {'weights': 'uniform',\n",
       "   'p': 2,\n",
       "   'n_neighbors': 21,\n",
       "   'leaf_size': 31,\n",
       "   'algorithm': 'brute'},\n",
       "  {'weights': 'distance',\n",
       "   'p': 1,\n",
       "   'n_neighbors': 17,\n",
       "   'leaf_size': 38,\n",
       "   'algorithm': 'auto'},\n",
       "  {'weights': 'uniform',\n",
       "   'p': 2,\n",
       "   'n_neighbors': 24,\n",
       "   'leaf_size': 42,\n",
       "   'algorithm': 'kd_tree'},\n",
       "  {'weights': 'uniform',\n",
       "   'p': 2,\n",
       "   'n_neighbors': 21,\n",
       "   'leaf_size': 9,\n",
       "   'algorithm': 'brute'},\n",
       "  {'weights': 'uniform',\n",
       "   'p': 1,\n",
       "   'n_neighbors': 20,\n",
       "   'leaf_size': 42,\n",
       "   'algorithm': 'auto'},\n",
       "  {'weights': 'uniform',\n",
       "   'p': 1,\n",
       "   'n_neighbors': 21,\n",
       "   'leaf_size': 35,\n",
       "   'algorithm': 'brute'},\n",
       "  {'weights': 'uniform',\n",
       "   'p': 1,\n",
       "   'n_neighbors': 22,\n",
       "   'leaf_size': 38,\n",
       "   'algorithm': 'kd_tree'},\n",
       "  {'weights': 'distance',\n",
       "   'p': 1,\n",
       "   'n_neighbors': 22,\n",
       "   'leaf_size': 42,\n",
       "   'algorithm': 'auto'},\n",
       "  {'weights': 'distance',\n",
       "   'p': 2,\n",
       "   'n_neighbors': 24,\n",
       "   'leaf_size': 38,\n",
       "   'algorithm': 'ball_tree'},\n",
       "  {'weights': 'uniform',\n",
       "   'p': 2,\n",
       "   'n_neighbors': 21,\n",
       "   'leaf_size': 42,\n",
       "   'algorithm': 'auto'},\n",
       "  {'weights': 'distance',\n",
       "   'p': 2,\n",
       "   'n_neighbors': 22,\n",
       "   'leaf_size': 38,\n",
       "   'algorithm': 'auto'},\n",
       "  {'weights': 'distance',\n",
       "   'p': 1,\n",
       "   'n_neighbors': 22,\n",
       "   'leaf_size': 31,\n",
       "   'algorithm': 'ball_tree'},\n",
       "  {'weights': 'distance',\n",
       "   'p': 1,\n",
       "   'n_neighbors': 21,\n",
       "   'leaf_size': 35,\n",
       "   'algorithm': 'kd_tree'},\n",
       "  {'weights': 'uniform',\n",
       "   'p': 2,\n",
       "   'n_neighbors': 20,\n",
       "   'leaf_size': 31,\n",
       "   'algorithm': 'kd_tree'},\n",
       "  {'weights': 'distance',\n",
       "   'p': 2,\n",
       "   'n_neighbors': 20,\n",
       "   'leaf_size': 31,\n",
       "   'algorithm': 'auto'},\n",
       "  {'weights': 'uniform',\n",
       "   'p': 2,\n",
       "   'n_neighbors': 24,\n",
       "   'leaf_size': 9,\n",
       "   'algorithm': 'auto'},\n",
       "  {'weights': 'uniform',\n",
       "   'p': 1,\n",
       "   'n_neighbors': 22,\n",
       "   'leaf_size': 42,\n",
       "   'algorithm': 'kd_tree'},\n",
       "  {'weights': 'distance',\n",
       "   'p': 1,\n",
       "   'n_neighbors': 24,\n",
       "   'leaf_size': 42,\n",
       "   'algorithm': 'auto'},\n",
       "  {'weights': 'distance',\n",
       "   'p': 1,\n",
       "   'n_neighbors': 17,\n",
       "   'leaf_size': 42,\n",
       "   'algorithm': 'auto'},\n",
       "  {'weights': 'uniform',\n",
       "   'p': 2,\n",
       "   'n_neighbors': 20,\n",
       "   'leaf_size': 31,\n",
       "   'algorithm': 'brute'},\n",
       "  {'weights': 'uniform',\n",
       "   'p': 1,\n",
       "   'n_neighbors': 17,\n",
       "   'leaf_size': 31,\n",
       "   'algorithm': 'auto'},\n",
       "  {'weights': 'distance',\n",
       "   'p': 2,\n",
       "   'n_neighbors': 22,\n",
       "   'leaf_size': 9,\n",
       "   'algorithm': 'kd_tree'},\n",
       "  {'weights': 'uniform',\n",
       "   'p': 1,\n",
       "   'n_neighbors': 22,\n",
       "   'leaf_size': 9,\n",
       "   'algorithm': 'kd_tree'},\n",
       "  {'weights': 'uniform',\n",
       "   'p': 1,\n",
       "   'n_neighbors': 24,\n",
       "   'leaf_size': 9,\n",
       "   'algorithm': 'brute'},\n",
       "  {'weights': 'uniform',\n",
       "   'p': 1,\n",
       "   'n_neighbors': 20,\n",
       "   'leaf_size': 31,\n",
       "   'algorithm': 'brute'},\n",
       "  {'weights': 'uniform',\n",
       "   'p': 1,\n",
       "   'n_neighbors': 22,\n",
       "   'leaf_size': 9,\n",
       "   'algorithm': 'auto'},\n",
       "  {'weights': 'uniform',\n",
       "   'p': 2,\n",
       "   'n_neighbors': 22,\n",
       "   'leaf_size': 9,\n",
       "   'algorithm': 'kd_tree'},\n",
       "  {'weights': 'distance',\n",
       "   'p': 1,\n",
       "   'n_neighbors': 24,\n",
       "   'leaf_size': 35,\n",
       "   'algorithm': 'auto'},\n",
       "  {'weights': 'uniform',\n",
       "   'p': 1,\n",
       "   'n_neighbors': 17,\n",
       "   'leaf_size': 38,\n",
       "   'algorithm': 'brute'},\n",
       "  {'weights': 'uniform',\n",
       "   'p': 2,\n",
       "   'n_neighbors': 20,\n",
       "   'leaf_size': 42,\n",
       "   'algorithm': 'ball_tree'},\n",
       "  {'weights': 'distance',\n",
       "   'p': 1,\n",
       "   'n_neighbors': 24,\n",
       "   'leaf_size': 31,\n",
       "   'algorithm': 'kd_tree'},\n",
       "  {'weights': 'uniform',\n",
       "   'p': 1,\n",
       "   'n_neighbors': 22,\n",
       "   'leaf_size': 42,\n",
       "   'algorithm': 'ball_tree'},\n",
       "  {'weights': 'distance',\n",
       "   'p': 2,\n",
       "   'n_neighbors': 21,\n",
       "   'leaf_size': 38,\n",
       "   'algorithm': 'kd_tree'},\n",
       "  {'weights': 'uniform',\n",
       "   'p': 1,\n",
       "   'n_neighbors': 21,\n",
       "   'leaf_size': 31,\n",
       "   'algorithm': 'kd_tree'},\n",
       "  {'weights': 'distance',\n",
       "   'p': 1,\n",
       "   'n_neighbors': 17,\n",
       "   'leaf_size': 35,\n",
       "   'algorithm': 'ball_tree'},\n",
       "  {'weights': 'uniform',\n",
       "   'p': 2,\n",
       "   'n_neighbors': 24,\n",
       "   'leaf_size': 35,\n",
       "   'algorithm': 'auto'},\n",
       "  {'weights': 'distance',\n",
       "   'p': 2,\n",
       "   'n_neighbors': 22,\n",
       "   'leaf_size': 31,\n",
       "   'algorithm': 'brute'},\n",
       "  {'weights': 'distance',\n",
       "   'p': 2,\n",
       "   'n_neighbors': 24,\n",
       "   'leaf_size': 9,\n",
       "   'algorithm': 'brute'},\n",
       "  {'weights': 'uniform',\n",
       "   'p': 2,\n",
       "   'n_neighbors': 21,\n",
       "   'leaf_size': 42,\n",
       "   'algorithm': 'kd_tree'},\n",
       "  {'weights': 'uniform',\n",
       "   'p': 1,\n",
       "   'n_neighbors': 20,\n",
       "   'leaf_size': 42,\n",
       "   'algorithm': 'kd_tree'},\n",
       "  {'weights': 'distance',\n",
       "   'p': 2,\n",
       "   'n_neighbors': 20,\n",
       "   'leaf_size': 31,\n",
       "   'algorithm': 'ball_tree'},\n",
       "  {'weights': 'uniform',\n",
       "   'p': 2,\n",
       "   'n_neighbors': 20,\n",
       "   'leaf_size': 38,\n",
       "   'algorithm': 'auto'},\n",
       "  {'weights': 'uniform',\n",
       "   'p': 1,\n",
       "   'n_neighbors': 24,\n",
       "   'leaf_size': 35,\n",
       "   'algorithm': 'auto'},\n",
       "  {'weights': 'uniform',\n",
       "   'p': 2,\n",
       "   'n_neighbors': 22,\n",
       "   'leaf_size': 9,\n",
       "   'algorithm': 'brute'},\n",
       "  {'weights': 'distance',\n",
       "   'p': 2,\n",
       "   'n_neighbors': 21,\n",
       "   'leaf_size': 38,\n",
       "   'algorithm': 'ball_tree'},\n",
       "  {'weights': 'uniform',\n",
       "   'p': 2,\n",
       "   'n_neighbors': 22,\n",
       "   'leaf_size': 38,\n",
       "   'algorithm': 'ball_tree'},\n",
       "  {'weights': 'distance',\n",
       "   'p': 2,\n",
       "   'n_neighbors': 22,\n",
       "   'leaf_size': 38,\n",
       "   'algorithm': 'ball_tree'},\n",
       "  {'weights': 'distance',\n",
       "   'p': 1,\n",
       "   'n_neighbors': 21,\n",
       "   'leaf_size': 38,\n",
       "   'algorithm': 'kd_tree'},\n",
       "  {'weights': 'uniform',\n",
       "   'p': 1,\n",
       "   'n_neighbors': 24,\n",
       "   'leaf_size': 31,\n",
       "   'algorithm': 'brute'},\n",
       "  {'weights': 'uniform',\n",
       "   'p': 1,\n",
       "   'n_neighbors': 24,\n",
       "   'leaf_size': 38,\n",
       "   'algorithm': 'ball_tree'},\n",
       "  {'weights': 'distance',\n",
       "   'p': 1,\n",
       "   'n_neighbors': 21,\n",
       "   'leaf_size': 31,\n",
       "   'algorithm': 'kd_tree'},\n",
       "  {'weights': 'distance',\n",
       "   'p': 2,\n",
       "   'n_neighbors': 20,\n",
       "   'leaf_size': 35,\n",
       "   'algorithm': 'auto'},\n",
       "  {'weights': 'distance',\n",
       "   'p': 1,\n",
       "   'n_neighbors': 22,\n",
       "   'leaf_size': 31,\n",
       "   'algorithm': 'brute'},\n",
       "  {'weights': 'uniform',\n",
       "   'p': 1,\n",
       "   'n_neighbors': 21,\n",
       "   'leaf_size': 42,\n",
       "   'algorithm': 'brute'},\n",
       "  {'weights': 'distance',\n",
       "   'p': 1,\n",
       "   'n_neighbors': 22,\n",
       "   'leaf_size': 38,\n",
       "   'algorithm': 'auto'},\n",
       "  {'weights': 'uniform',\n",
       "   'p': 2,\n",
       "   'n_neighbors': 21,\n",
       "   'leaf_size': 9,\n",
       "   'algorithm': 'kd_tree'},\n",
       "  {'weights': 'uniform',\n",
       "   'p': 2,\n",
       "   'n_neighbors': 17,\n",
       "   'leaf_size': 35,\n",
       "   'algorithm': 'ball_tree'},\n",
       "  {'weights': 'distance',\n",
       "   'p': 1,\n",
       "   'n_neighbors': 20,\n",
       "   'leaf_size': 35,\n",
       "   'algorithm': 'kd_tree'},\n",
       "  {'weights': 'uniform',\n",
       "   'p': 1,\n",
       "   'n_neighbors': 17,\n",
       "   'leaf_size': 9,\n",
       "   'algorithm': 'brute'},\n",
       "  {'weights': 'uniform',\n",
       "   'p': 2,\n",
       "   'n_neighbors': 24,\n",
       "   'leaf_size': 42,\n",
       "   'algorithm': 'ball_tree'},\n",
       "  {'weights': 'uniform',\n",
       "   'p': 2,\n",
       "   'n_neighbors': 24,\n",
       "   'leaf_size': 31,\n",
       "   'algorithm': 'kd_tree'},\n",
       "  {'weights': 'distance',\n",
       "   'p': 1,\n",
       "   'n_neighbors': 21,\n",
       "   'leaf_size': 9,\n",
       "   'algorithm': 'auto'},\n",
       "  {'weights': 'uniform',\n",
       "   'p': 2,\n",
       "   'n_neighbors': 22,\n",
       "   'leaf_size': 38,\n",
       "   'algorithm': 'kd_tree'},\n",
       "  {'weights': 'distance',\n",
       "   'p': 1,\n",
       "   'n_neighbors': 22,\n",
       "   'leaf_size': 38,\n",
       "   'algorithm': 'kd_tree'},\n",
       "  {'weights': 'distance',\n",
       "   'p': 1,\n",
       "   'n_neighbors': 20,\n",
       "   'leaf_size': 38,\n",
       "   'algorithm': 'brute'},\n",
       "  {'weights': 'distance',\n",
       "   'p': 2,\n",
       "   'n_neighbors': 22,\n",
       "   'leaf_size': 42,\n",
       "   'algorithm': 'kd_tree'},\n",
       "  {'weights': 'distance',\n",
       "   'p': 2,\n",
       "   'n_neighbors': 21,\n",
       "   'leaf_size': 35,\n",
       "   'algorithm': 'ball_tree'},\n",
       "  {'weights': 'distance',\n",
       "   'p': 1,\n",
       "   'n_neighbors': 24,\n",
       "   'leaf_size': 9,\n",
       "   'algorithm': 'auto'},\n",
       "  {'weights': 'distance',\n",
       "   'p': 2,\n",
       "   'n_neighbors': 21,\n",
       "   'leaf_size': 38,\n",
       "   'algorithm': 'brute'},\n",
       "  {'weights': 'distance',\n",
       "   'p': 1,\n",
       "   'n_neighbors': 20,\n",
       "   'leaf_size': 35,\n",
       "   'algorithm': 'auto'},\n",
       "  {'weights': 'uniform',\n",
       "   'p': 2,\n",
       "   'n_neighbors': 20,\n",
       "   'leaf_size': 38,\n",
       "   'algorithm': 'ball_tree'},\n",
       "  {'weights': 'distance',\n",
       "   'p': 1,\n",
       "   'n_neighbors': 21,\n",
       "   'leaf_size': 42,\n",
       "   'algorithm': 'kd_tree'},\n",
       "  {'weights': 'uniform',\n",
       "   'p': 2,\n",
       "   'n_neighbors': 20,\n",
       "   'leaf_size': 9,\n",
       "   'algorithm': 'kd_tree'},\n",
       "  {'weights': 'uniform',\n",
       "   'p': 1,\n",
       "   'n_neighbors': 17,\n",
       "   'leaf_size': 9,\n",
       "   'algorithm': 'ball_tree'},\n",
       "  {'weights': 'uniform',\n",
       "   'p': 2,\n",
       "   'n_neighbors': 21,\n",
       "   'leaf_size': 38,\n",
       "   'algorithm': 'kd_tree'},\n",
       "  {'weights': 'distance',\n",
       "   'p': 2,\n",
       "   'n_neighbors': 17,\n",
       "   'leaf_size': 9,\n",
       "   'algorithm': 'ball_tree'},\n",
       "  {'weights': 'uniform',\n",
       "   'p': 1,\n",
       "   'n_neighbors': 21,\n",
       "   'leaf_size': 42,\n",
       "   'algorithm': 'auto'},\n",
       "  {'weights': 'uniform',\n",
       "   'p': 2,\n",
       "   'n_neighbors': 21,\n",
       "   'leaf_size': 31,\n",
       "   'algorithm': 'auto'},\n",
       "  {'weights': 'uniform',\n",
       "   'p': 1,\n",
       "   'n_neighbors': 20,\n",
       "   'leaf_size': 38,\n",
       "   'algorithm': 'auto'},\n",
       "  {'weights': 'distance',\n",
       "   'p': 2,\n",
       "   'n_neighbors': 22,\n",
       "   'leaf_size': 9,\n",
       "   'algorithm': 'brute'},\n",
       "  {'weights': 'distance',\n",
       "   'p': 1,\n",
       "   'n_neighbors': 20,\n",
       "   'leaf_size': 31,\n",
       "   'algorithm': 'ball_tree'},\n",
       "  {'weights': 'distance',\n",
       "   'p': 1,\n",
       "   'n_neighbors': 24,\n",
       "   'leaf_size': 31,\n",
       "   'algorithm': 'ball_tree'},\n",
       "  {'weights': 'uniform',\n",
       "   'p': 1,\n",
       "   'n_neighbors': 22,\n",
       "   'leaf_size': 38,\n",
       "   'algorithm': 'auto'},\n",
       "  {'weights': 'distance',\n",
       "   'p': 1,\n",
       "   'n_neighbors': 24,\n",
       "   'leaf_size': 35,\n",
       "   'algorithm': 'ball_tree'},\n",
       "  {'weights': 'uniform',\n",
       "   'p': 2,\n",
       "   'n_neighbors': 17,\n",
       "   'leaf_size': 42,\n",
       "   'algorithm': 'kd_tree'},\n",
       "  {'weights': 'uniform',\n",
       "   'p': 1,\n",
       "   'n_neighbors': 21,\n",
       "   'leaf_size': 31,\n",
       "   'algorithm': 'ball_tree'},\n",
       "  {'weights': 'distance',\n",
       "   'p': 1,\n",
       "   'n_neighbors': 24,\n",
       "   'leaf_size': 42,\n",
       "   'algorithm': 'brute'},\n",
       "  {'weights': 'distance',\n",
       "   'p': 1,\n",
       "   'n_neighbors': 24,\n",
       "   'leaf_size': 42,\n",
       "   'algorithm': 'kd_tree'},\n",
       "  {'weights': 'uniform',\n",
       "   'p': 2,\n",
       "   'n_neighbors': 22,\n",
       "   'leaf_size': 31,\n",
       "   'algorithm': 'ball_tree'},\n",
       "  {'weights': 'uniform',\n",
       "   'p': 1,\n",
       "   'n_neighbors': 21,\n",
       "   'leaf_size': 9,\n",
       "   'algorithm': 'brute'},\n",
       "  {'weights': 'uniform',\n",
       "   'p': 1,\n",
       "   'n_neighbors': 21,\n",
       "   'leaf_size': 42,\n",
       "   'algorithm': 'ball_tree'},\n",
       "  {'weights': 'uniform',\n",
       "   'p': 1,\n",
       "   'n_neighbors': 17,\n",
       "   'leaf_size': 35,\n",
       "   'algorithm': 'brute'},\n",
       "  {'weights': 'uniform',\n",
       "   'p': 2,\n",
       "   'n_neighbors': 17,\n",
       "   'leaf_size': 9,\n",
       "   'algorithm': 'kd_tree'},\n",
       "  {'weights': 'uniform',\n",
       "   'p': 2,\n",
       "   'n_neighbors': 21,\n",
       "   'leaf_size': 35,\n",
       "   'algorithm': 'kd_tree'},\n",
       "  {'weights': 'uniform',\n",
       "   'p': 1,\n",
       "   'n_neighbors': 20,\n",
       "   'leaf_size': 31,\n",
       "   'algorithm': 'kd_tree'},\n",
       "  {'weights': 'distance',\n",
       "   'p': 1,\n",
       "   'n_neighbors': 22,\n",
       "   'leaf_size': 42,\n",
       "   'algorithm': 'brute'},\n",
       "  {'weights': 'uniform',\n",
       "   'p': 1,\n",
       "   'n_neighbors': 17,\n",
       "   'leaf_size': 35,\n",
       "   'algorithm': 'kd_tree'},\n",
       "  {'weights': 'distance',\n",
       "   'p': 2,\n",
       "   'n_neighbors': 20,\n",
       "   'leaf_size': 38,\n",
       "   'algorithm': 'kd_tree'},\n",
       "  {'weights': 'distance',\n",
       "   'p': 1,\n",
       "   'n_neighbors': 22,\n",
       "   'leaf_size': 42,\n",
       "   'algorithm': 'kd_tree'},\n",
       "  {'weights': 'distance',\n",
       "   'p': 1,\n",
       "   'n_neighbors': 21,\n",
       "   'leaf_size': 35,\n",
       "   'algorithm': 'brute'},\n",
       "  {'weights': 'uniform',\n",
       "   'p': 1,\n",
       "   'n_neighbors': 24,\n",
       "   'leaf_size': 35,\n",
       "   'algorithm': 'kd_tree'},\n",
       "  {'weights': 'distance',\n",
       "   'p': 1,\n",
       "   'n_neighbors': 20,\n",
       "   'leaf_size': 31,\n",
       "   'algorithm': 'kd_tree'},\n",
       "  {'weights': 'distance',\n",
       "   'p': 2,\n",
       "   'n_neighbors': 17,\n",
       "   'leaf_size': 35,\n",
       "   'algorithm': 'auto'},\n",
       "  {'weights': 'distance',\n",
       "   'p': 1,\n",
       "   'n_neighbors': 24,\n",
       "   'leaf_size': 38,\n",
       "   'algorithm': 'kd_tree'},\n",
       "  {'weights': 'distance',\n",
       "   'p': 1,\n",
       "   'n_neighbors': 20,\n",
       "   'leaf_size': 9,\n",
       "   'algorithm': 'ball_tree'},\n",
       "  {'weights': 'distance',\n",
       "   'p': 2,\n",
       "   'n_neighbors': 17,\n",
       "   'leaf_size': 42,\n",
       "   'algorithm': 'kd_tree'},\n",
       "  {'weights': 'uniform',\n",
       "   'p': 1,\n",
       "   'n_neighbors': 17,\n",
       "   'leaf_size': 31,\n",
       "   'algorithm': 'ball_tree'},\n",
       "  {'weights': 'distance',\n",
       "   'p': 1,\n",
       "   'n_neighbors': 17,\n",
       "   'leaf_size': 42,\n",
       "   'algorithm': 'kd_tree'},\n",
       "  {'weights': 'distance',\n",
       "   'p': 1,\n",
       "   'n_neighbors': 17,\n",
       "   'leaf_size': 38,\n",
       "   'algorithm': 'brute'},\n",
       "  {'weights': 'uniform',\n",
       "   'p': 2,\n",
       "   'n_neighbors': 17,\n",
       "   'leaf_size': 31,\n",
       "   'algorithm': 'ball_tree'},\n",
       "  {'weights': 'uniform',\n",
       "   'p': 2,\n",
       "   'n_neighbors': 22,\n",
       "   'leaf_size': 35,\n",
       "   'algorithm': 'ball_tree'},\n",
       "  {'weights': 'uniform',\n",
       "   'p': 2,\n",
       "   'n_neighbors': 17,\n",
       "   'leaf_size': 9,\n",
       "   'algorithm': 'ball_tree'},\n",
       "  {'weights': 'distance',\n",
       "   'p': 1,\n",
       "   'n_neighbors': 17,\n",
       "   'leaf_size': 31,\n",
       "   'algorithm': 'kd_tree'},\n",
       "  {'weights': 'distance',\n",
       "   'p': 1,\n",
       "   'n_neighbors': 17,\n",
       "   'leaf_size': 31,\n",
       "   'algorithm': 'brute'},\n",
       "  {'weights': 'uniform',\n",
       "   'p': 2,\n",
       "   'n_neighbors': 24,\n",
       "   'leaf_size': 35,\n",
       "   'algorithm': 'kd_tree'},\n",
       "  {'weights': 'uniform',\n",
       "   'p': 1,\n",
       "   'n_neighbors': 21,\n",
       "   'leaf_size': 9,\n",
       "   'algorithm': 'kd_tree'},\n",
       "  {'weights': 'distance',\n",
       "   'p': 2,\n",
       "   'n_neighbors': 24,\n",
       "   'leaf_size': 35,\n",
       "   'algorithm': 'brute'},\n",
       "  {'weights': 'uniform',\n",
       "   'p': 2,\n",
       "   'n_neighbors': 20,\n",
       "   'leaf_size': 35,\n",
       "   'algorithm': 'auto'},\n",
       "  {'weights': 'uniform',\n",
       "   'p': 1,\n",
       "   'n_neighbors': 21,\n",
       "   'leaf_size': 38,\n",
       "   'algorithm': 'kd_tree'},\n",
       "  {'weights': 'uniform',\n",
       "   'p': 1,\n",
       "   'n_neighbors': 17,\n",
       "   'leaf_size': 9,\n",
       "   'algorithm': 'kd_tree'},\n",
       "  {'weights': 'distance',\n",
       "   'p': 1,\n",
       "   'n_neighbors': 22,\n",
       "   'leaf_size': 38,\n",
       "   'algorithm': 'brute'},\n",
       "  {'weights': 'distance',\n",
       "   'p': 1,\n",
       "   'n_neighbors': 17,\n",
       "   'leaf_size': 9,\n",
       "   'algorithm': 'ball_tree'},\n",
       "  {'weights': 'distance',\n",
       "   'p': 1,\n",
       "   'n_neighbors': 22,\n",
       "   'leaf_size': 9,\n",
       "   'algorithm': 'brute'},\n",
       "  {'weights': 'uniform',\n",
       "   'p': 2,\n",
       "   'n_neighbors': 21,\n",
       "   'leaf_size': 38,\n",
       "   'algorithm': 'auto'},\n",
       "  {'weights': 'uniform',\n",
       "   'p': 1,\n",
       "   'n_neighbors': 17,\n",
       "   'leaf_size': 38,\n",
       "   'algorithm': 'kd_tree'},\n",
       "  {'weights': 'distance',\n",
       "   'p': 1,\n",
       "   'n_neighbors': 20,\n",
       "   'leaf_size': 35,\n",
       "   'algorithm': 'brute'},\n",
       "  {'weights': 'uniform',\n",
       "   'p': 2,\n",
       "   'n_neighbors': 22,\n",
       "   'leaf_size': 35,\n",
       "   'algorithm': 'brute'},\n",
       "  {'weights': 'uniform',\n",
       "   'p': 2,\n",
       "   'n_neighbors': 17,\n",
       "   'leaf_size': 35,\n",
       "   'algorithm': 'auto'},\n",
       "  {'weights': 'uniform',\n",
       "   'p': 1,\n",
       "   'n_neighbors': 22,\n",
       "   'leaf_size': 31,\n",
       "   'algorithm': 'brute'},\n",
       "  {'weights': 'uniform',\n",
       "   'p': 2,\n",
       "   'n_neighbors': 20,\n",
       "   'leaf_size': 31,\n",
       "   'algorithm': 'auto'},\n",
       "  {'weights': 'distance',\n",
       "   'p': 1,\n",
       "   'n_neighbors': 24,\n",
       "   'leaf_size': 35,\n",
       "   'algorithm': 'brute'},\n",
       "  {'weights': 'uniform',\n",
       "   'p': 2,\n",
       "   'n_neighbors': 17,\n",
       "   'leaf_size': 38,\n",
       "   'algorithm': 'ball_tree'},\n",
       "  {'weights': 'uniform',\n",
       "   'p': 1,\n",
       "   'n_neighbors': 22,\n",
       "   'leaf_size': 31,\n",
       "   'algorithm': 'kd_tree'},\n",
       "  {'weights': 'distance',\n",
       "   'p': 2,\n",
       "   'n_neighbors': 24,\n",
       "   'leaf_size': 31,\n",
       "   'algorithm': 'brute'},\n",
       "  {'weights': 'uniform',\n",
       "   'p': 1,\n",
       "   'n_neighbors': 21,\n",
       "   'leaf_size': 42,\n",
       "   'algorithm': 'kd_tree'},\n",
       "  {'weights': 'distance',\n",
       "   'p': 2,\n",
       "   'n_neighbors': 24,\n",
       "   'leaf_size': 9,\n",
       "   'algorithm': 'kd_tree'},\n",
       "  {'weights': 'distance',\n",
       "   'p': 1,\n",
       "   'n_neighbors': 20,\n",
       "   'leaf_size': 42,\n",
       "   'algorithm': 'ball_tree'},\n",
       "  {'weights': 'distance',\n",
       "   'p': 2,\n",
       "   'n_neighbors': 20,\n",
       "   'leaf_size': 35,\n",
       "   'algorithm': 'kd_tree'},\n",
       "  {'weights': 'distance',\n",
       "   'p': 1,\n",
       "   'n_neighbors': 21,\n",
       "   'leaf_size': 31,\n",
       "   'algorithm': 'brute'},\n",
       "  {'weights': 'uniform',\n",
       "   'p': 1,\n",
       "   'n_neighbors': 17,\n",
       "   'leaf_size': 38,\n",
       "   'algorithm': 'ball_tree'},\n",
       "  {'weights': 'distance',\n",
       "   'p': 2,\n",
       "   'n_neighbors': 24,\n",
       "   'leaf_size': 9,\n",
       "   'algorithm': 'ball_tree'},\n",
       "  {'weights': 'uniform',\n",
       "   'p': 1,\n",
       "   'n_neighbors': 20,\n",
       "   'leaf_size': 35,\n",
       "   'algorithm': 'ball_tree'},\n",
       "  {'weights': 'uniform',\n",
       "   'p': 2,\n",
       "   'n_neighbors': 21,\n",
       "   'leaf_size': 42,\n",
       "   'algorithm': 'brute'},\n",
       "  {'weights': 'uniform',\n",
       "   'p': 1,\n",
       "   'n_neighbors': 21,\n",
       "   'leaf_size': 35,\n",
       "   'algorithm': 'auto'},\n",
       "  {'weights': 'distance',\n",
       "   'p': 2,\n",
       "   'n_neighbors': 22,\n",
       "   'leaf_size': 35,\n",
       "   'algorithm': 'kd_tree'},\n",
       "  {'weights': 'distance',\n",
       "   'p': 1,\n",
       "   'n_neighbors': 17,\n",
       "   'leaf_size': 42,\n",
       "   'algorithm': 'brute'},\n",
       "  {'weights': 'uniform',\n",
       "   'p': 2,\n",
       "   'n_neighbors': 22,\n",
       "   'leaf_size': 9,\n",
       "   'algorithm': 'ball_tree'},\n",
       "  {'weights': 'distance',\n",
       "   'p': 2,\n",
       "   'n_neighbors': 22,\n",
       "   'leaf_size': 35,\n",
       "   'algorithm': 'ball_tree'},\n",
       "  {'weights': 'distance',\n",
       "   'p': 1,\n",
       "   'n_neighbors': 22,\n",
       "   'leaf_size': 42,\n",
       "   'algorithm': 'ball_tree'},\n",
       "  {'weights': 'uniform',\n",
       "   'p': 1,\n",
       "   'n_neighbors': 22,\n",
       "   'leaf_size': 9,\n",
       "   'algorithm': 'brute'},\n",
       "  {'weights': 'uniform',\n",
       "   'p': 1,\n",
       "   'n_neighbors': 20,\n",
       "   'leaf_size': 31,\n",
       "   'algorithm': 'ball_tree'},\n",
       "  {'weights': 'distance',\n",
       "   'p': 2,\n",
       "   'n_neighbors': 24,\n",
       "   'leaf_size': 35,\n",
       "   'algorithm': 'auto'},\n",
       "  {'weights': 'distance',\n",
       "   'p': 2,\n",
       "   'n_neighbors': 20,\n",
       "   'leaf_size': 38,\n",
       "   'algorithm': 'auto'},\n",
       "  {'weights': 'uniform',\n",
       "   'p': 2,\n",
       "   'n_neighbors': 17,\n",
       "   'leaf_size': 9,\n",
       "   'algorithm': 'auto'}],\n",
       " 'split0_test_score': array([0.89207982, 0.89185253, 0.89221145, 0.87232309, 0.87235063,\n",
       "        0.87235063, 0.8720062 , 0.87235063, 0.8730515 , 0.87252499,\n",
       "        0.8730515 , 0.89185253, 0.89185253, 0.89185253, 0.89207982,\n",
       "        0.89221145, 0.87235063, 0.89185253, 0.8720062 , 0.87232334,\n",
       "        0.89189556, 0.87197781, 0.89189556, 0.87235063, 0.89206391,\n",
       "        0.89221145, 0.89221145, 0.89206391, 0.87235063, 0.89189217,\n",
       "        0.87307123, 0.89189217, 0.89207982, 0.89189556, 0.89220058,\n",
       "        0.89185253, 0.87232334, 0.89220058, 0.87307123, 0.89064188,\n",
       "        0.89185253, 0.87255955, 0.87252524, 0.87081608, 0.89064188,\n",
       "        0.87197781, 0.89207982, 0.87084972, 0.89221145, 0.89207982,\n",
       "        0.89185253, 0.89206391, 0.89189217, 0.87255955, 0.8730515 ,\n",
       "        0.89207982, 0.87252524, 0.87255955, 0.87235063, 0.89185253,\n",
       "        0.87197781, 0.89221145, 0.89189217, 0.87307123, 0.87084972,\n",
       "        0.89185253, 0.89064188, 0.87252524, 0.89189217, 0.89220058,\n",
       "        0.89185253, 0.89189217, 0.89189556, 0.87307123, 0.89064188,\n",
       "        0.89185253, 0.87307123, 0.89189217, 0.87232334, 0.89206391,\n",
       "        0.87084972, 0.89221145, 0.87252499, 0.87305125, 0.89207982,\n",
       "        0.89185253, 0.87197781, 0.89185253, 0.89220058, 0.89189556,\n",
       "        0.87232334, 0.89189556, 0.87252524, 0.87235063, 0.89220058,\n",
       "        0.89220058, 0.87235063, 0.87197781, 0.87255955, 0.89206391,\n",
       "        0.87255955, 0.89207982, 0.89064188, 0.8720062 , 0.89064188,\n",
       "        0.89221145, 0.89221145, 0.87235063, 0.89189556, 0.87255955,\n",
       "        0.8720062 , 0.87252524, 0.87232334, 0.87307123, 0.87232309,\n",
       "        0.8720062 , 0.89185253, 0.87235063, 0.89185253, 0.89064188,\n",
       "        0.89207982, 0.87081608, 0.89206391, 0.89207982, 0.89185253,\n",
       "        0.87252499, 0.8720062 , 0.87307123, 0.89189217, 0.87307123,\n",
       "        0.89064188, 0.89206391, 0.87307123, 0.87307123, 0.89189556,\n",
       "        0.89206391, 0.89206391, 0.89064188, 0.89064188, 0.89207982,\n",
       "        0.89185253, 0.87255955, 0.89064188, 0.87197781, 0.87255955,\n",
       "        0.87235063, 0.89220058, 0.8720062 , 0.87081608, 0.87307123,\n",
       "        0.8720062 , 0.87081608, 0.89064188, 0.87084972, 0.87084972,\n",
       "        0.89064188, 0.89189556, 0.89064188, 0.87084972, 0.87084972,\n",
       "        0.89221145, 0.89206391, 0.87305125, 0.89185253, 0.89206391,\n",
       "        0.89064188, 0.87255955, 0.87084972, 0.87255955, 0.89207982,\n",
       "        0.89064188, 0.8720062 , 0.89189556, 0.89064188, 0.89189217,\n",
       "        0.89185253, 0.87307123, 0.89064188, 0.89189217, 0.87305125,\n",
       "        0.89206391, 0.8730515 , 0.8720062 , 0.87197781, 0.87235063,\n",
       "        0.89064188, 0.8730515 , 0.89185253, 0.89207982, 0.89206391,\n",
       "        0.87252524, 0.87084972, 0.89189556, 0.87252524, 0.87255955,\n",
       "        0.89189217, 0.89185253, 0.8730515 , 0.87197781, 0.89064188]),\n",
       " 'split1_test_score': array([0.88958783, 0.88905945, 0.88938556, 0.8730139 , 0.87305291,\n",
       "        0.87305291, 0.8726988 , 0.87305291, 0.87358722, 0.8733097 ,\n",
       "        0.87358722, 0.88915229, 0.88905945, 0.88915229, 0.88958783,\n",
       "        0.88938556, 0.87305291, 0.88915229, 0.8726988 , 0.87301376,\n",
       "        0.88981374, 0.87267115, 0.88981374, 0.87305291, 0.88968325,\n",
       "        0.88938556, 0.88938556, 0.88968325, 0.87305291, 0.88989495,\n",
       "        0.87361762, 0.88989495, 0.88958783, 0.88981374, 0.889457  ,\n",
       "        0.88905945, 0.87301376, 0.889457  , 0.87361762, 0.88805358,\n",
       "        0.88905945, 0.87334098, 0.87330956, 0.87161796, 0.88793362,\n",
       "        0.87267115, 0.88958783, 0.87165103, 0.88938556, 0.88958783,\n",
       "        0.88915229, 0.88968325, 0.88989495, 0.87334098, 0.87358722,\n",
       "        0.88958783, 0.87330956, 0.87334098, 0.87305291, 0.88905945,\n",
       "        0.87267115, 0.88938556, 0.88989495, 0.87361762, 0.87165103,\n",
       "        0.88905945, 0.88805358, 0.87330956, 0.88989495, 0.889457  ,\n",
       "        0.88915229, 0.88989495, 0.88981374, 0.87361762, 0.88805358,\n",
       "        0.88905945, 0.87361762, 0.88989495, 0.87301376, 0.88968325,\n",
       "        0.87165103, 0.88938556, 0.8733097 , 0.87358737, 0.88958783,\n",
       "        0.88915229, 0.87267115, 0.88905945, 0.889457  , 0.88981374,\n",
       "        0.87301376, 0.88981374, 0.87330956, 0.87305291, 0.889457  ,\n",
       "        0.889457  , 0.87305291, 0.87267115, 0.87334098, 0.88968325,\n",
       "        0.87334098, 0.88958783, 0.88793362, 0.8726988 , 0.88805358,\n",
       "        0.88938556, 0.88938556, 0.87305291, 0.88981374, 0.87334098,\n",
       "        0.8726988 , 0.87330956, 0.87301376, 0.87361762, 0.8730139 ,\n",
       "        0.8726988 , 0.88905945, 0.87305291, 0.88905945, 0.88805358,\n",
       "        0.88958783, 0.87161796, 0.88968325, 0.88958783, 0.88915229,\n",
       "        0.8733097 , 0.8726988 , 0.87361762, 0.88989495, 0.87361762,\n",
       "        0.88793362, 0.88968325, 0.87361762, 0.87361762, 0.88981374,\n",
       "        0.88968325, 0.88968325, 0.88805358, 0.88793362, 0.88958783,\n",
       "        0.88915229, 0.87334098, 0.88805358, 0.87267115, 0.87334098,\n",
       "        0.87305291, 0.889457  , 0.8726988 , 0.87161796, 0.87361762,\n",
       "        0.8726988 , 0.87161796, 0.88805358, 0.87165103, 0.87165103,\n",
       "        0.88793362, 0.88981374, 0.88793362, 0.87165103, 0.87165103,\n",
       "        0.88938556, 0.88968325, 0.87358737, 0.88905945, 0.88968325,\n",
       "        0.88805358, 0.87334098, 0.87165103, 0.87334098, 0.88958783,\n",
       "        0.88805358, 0.8726988 , 0.88981374, 0.88793362, 0.88989495,\n",
       "        0.88905945, 0.87361762, 0.88793362, 0.88989495, 0.87358737,\n",
       "        0.88968325, 0.87358722, 0.8726988 , 0.87267115, 0.87305291,\n",
       "        0.88805358, 0.87358722, 0.88915229, 0.88958783, 0.88968325,\n",
       "        0.87330956, 0.87165103, 0.88981374, 0.87330956, 0.87334098,\n",
       "        0.88989495, 0.88915229, 0.87358722, 0.87267115, 0.88793362]),\n",
       " 'split2_test_score': array([0.89510257, 0.89495107, 0.89531218, 0.87940727, 0.87944358,\n",
       "        0.87944358, 0.87912572, 0.87944358, 0.88015946, 0.87971316,\n",
       "        0.88015946, 0.89495189, 0.89495107, 0.89495189, 0.89510257,\n",
       "        0.89531218, 0.87944358, 0.89495189, 0.87912572, 0.87940785,\n",
       "        0.89504845, 0.87908998, 0.89504845, 0.87944358, 0.89510478,\n",
       "        0.89531218, 0.89531218, 0.89510478, 0.87944358, 0.89506285,\n",
       "        0.88019638, 0.89506285, 0.89510257, 0.89504845, 0.8953332 ,\n",
       "        0.89495107, 0.87940785, 0.8953332 , 0.88019638, 0.89399055,\n",
       "        0.89495107, 0.87974921, 0.87971374, 0.87805742, 0.89398792,\n",
       "        0.87908998, 0.89510257, 0.87809256, 0.89531218, 0.89510257,\n",
       "        0.89495189, 0.89510478, 0.89506285, 0.87974921, 0.88015946,\n",
       "        0.89510257, 0.87971374, 0.87974921, 0.87944358, 0.89495107,\n",
       "        0.87908998, 0.89531218, 0.89506285, 0.88019638, 0.87809256,\n",
       "        0.89495107, 0.89399055, 0.87971374, 0.89506285, 0.8953332 ,\n",
       "        0.89495189, 0.89506285, 0.89504845, 0.88019638, 0.89399055,\n",
       "        0.89495107, 0.88019638, 0.89506285, 0.87940785, 0.89510478,\n",
       "        0.87809256, 0.89531218, 0.87971316, 0.88015887, 0.89510257,\n",
       "        0.89495189, 0.87908998, 0.89495107, 0.8953332 , 0.89504845,\n",
       "        0.87940785, 0.89504845, 0.87971374, 0.87944358, 0.8953332 ,\n",
       "        0.8953332 , 0.87944358, 0.87908998, 0.87974921, 0.89510478,\n",
       "        0.87974921, 0.89510257, 0.89398792, 0.87912572, 0.89399055,\n",
       "        0.89531218, 0.89531218, 0.87944358, 0.89504845, 0.87974921,\n",
       "        0.87912572, 0.87971374, 0.87940785, 0.88019638, 0.87940727,\n",
       "        0.87912572, 0.89495107, 0.87944358, 0.89495107, 0.89399055,\n",
       "        0.89510257, 0.87805742, 0.89510478, 0.89510257, 0.89495189,\n",
       "        0.87971316, 0.87912572, 0.88019638, 0.89506285, 0.88019638,\n",
       "        0.89398792, 0.89510478, 0.88019638, 0.88019638, 0.89504845,\n",
       "        0.89510478, 0.89510478, 0.89399055, 0.89398792, 0.89510257,\n",
       "        0.89495189, 0.87974921, 0.89399055, 0.87908998, 0.87974921,\n",
       "        0.87944358, 0.8953332 , 0.87912572, 0.87805742, 0.88019638,\n",
       "        0.87912572, 0.87805742, 0.89399055, 0.87809256, 0.87809256,\n",
       "        0.89398792, 0.89504845, 0.89398792, 0.87809256, 0.87809256,\n",
       "        0.89531218, 0.89510478, 0.88015887, 0.89495107, 0.89510478,\n",
       "        0.89399055, 0.87974921, 0.87809256, 0.87974921, 0.89510257,\n",
       "        0.89399055, 0.87912572, 0.89504845, 0.89398792, 0.89506285,\n",
       "        0.89495107, 0.88019638, 0.89398792, 0.89506285, 0.88015887,\n",
       "        0.89510478, 0.88015946, 0.87912572, 0.87908998, 0.87944358,\n",
       "        0.89399055, 0.88015946, 0.89495189, 0.89510257, 0.89510478,\n",
       "        0.87971374, 0.87809256, 0.89504845, 0.87971374, 0.87974921,\n",
       "        0.89506285, 0.89495189, 0.88015946, 0.87908998, 0.89398792]),\n",
       " 'mean_test_score': array([0.89225674, 0.89195435, 0.89230306, 0.87491476, 0.87494904,\n",
       "        0.87494904, 0.87461024, 0.87494904, 0.8755994 , 0.87518262,\n",
       "        0.8755994 , 0.89198557, 0.89195435, 0.89198557, 0.89225674,\n",
       "        0.89230306, 0.87494904, 0.89198557, 0.87461024, 0.87491498,\n",
       "        0.89225258, 0.87457964, 0.89225258, 0.87494904, 0.89228398,\n",
       "        0.89230306, 0.89230306, 0.89228398, 0.87494904, 0.89228332,\n",
       "        0.87562841, 0.89228332, 0.89225674, 0.89225258, 0.89233026,\n",
       "        0.89195435, 0.87491498, 0.89233026, 0.87562841, 0.89089534,\n",
       "        0.89195435, 0.87521658, 0.87518285, 0.87349716, 0.89085447,\n",
       "        0.87457964, 0.89225674, 0.8735311 , 0.89230306, 0.89225674,\n",
       "        0.89198557, 0.89228398, 0.89228332, 0.87521658, 0.8755994 ,\n",
       "        0.89225674, 0.87518285, 0.87521658, 0.87494904, 0.89195435,\n",
       "        0.87457964, 0.89230306, 0.89228332, 0.87562841, 0.8735311 ,\n",
       "        0.89195435, 0.89089534, 0.87518285, 0.89228332, 0.89233026,\n",
       "        0.89198557, 0.89228332, 0.89225258, 0.87562841, 0.89089534,\n",
       "        0.89195435, 0.87562841, 0.89228332, 0.87491498, 0.89228398,\n",
       "        0.8735311 , 0.89230306, 0.87518262, 0.87559916, 0.89225674,\n",
       "        0.89198557, 0.87457964, 0.89195435, 0.89233026, 0.89225258,\n",
       "        0.87491498, 0.89225258, 0.87518285, 0.87494904, 0.89233026,\n",
       "        0.89233026, 0.87494904, 0.87457964, 0.87521658, 0.89228398,\n",
       "        0.87521658, 0.89225674, 0.89085447, 0.87461024, 0.89089534,\n",
       "        0.89230306, 0.89230306, 0.87494904, 0.89225258, 0.87521658,\n",
       "        0.87461024, 0.87518285, 0.87491498, 0.87562841, 0.87491476,\n",
       "        0.87461024, 0.89195435, 0.87494904, 0.89195435, 0.89089534,\n",
       "        0.89225674, 0.87349716, 0.89228398, 0.89225674, 0.89198557,\n",
       "        0.87518262, 0.87461024, 0.87562841, 0.89228332, 0.87562841,\n",
       "        0.89085447, 0.89228398, 0.87562841, 0.87562841, 0.89225258,\n",
       "        0.89228398, 0.89228398, 0.89089534, 0.89085447, 0.89225674,\n",
       "        0.89198557, 0.87521658, 0.89089534, 0.87457964, 0.87521658,\n",
       "        0.87494904, 0.89233026, 0.87461024, 0.87349716, 0.87562841,\n",
       "        0.87461024, 0.87349716, 0.89089534, 0.8735311 , 0.8735311 ,\n",
       "        0.89085447, 0.89225258, 0.89085447, 0.8735311 , 0.8735311 ,\n",
       "        0.89230306, 0.89228398, 0.87559916, 0.89195435, 0.89228398,\n",
       "        0.89089534, 0.87521658, 0.8735311 , 0.87521658, 0.89225674,\n",
       "        0.89089534, 0.87461024, 0.89225258, 0.89085447, 0.89228332,\n",
       "        0.89195435, 0.87562841, 0.89085447, 0.89228332, 0.87559916,\n",
       "        0.89228398, 0.8755994 , 0.87461024, 0.87457964, 0.87494904,\n",
       "        0.89089534, 0.8755994 , 0.89198557, 0.89225674, 0.89228398,\n",
       "        0.87518285, 0.8735311 , 0.89225258, 0.87518285, 0.87521658,\n",
       "        0.89228332, 0.89198557, 0.8755994 , 0.87457964, 0.89085447]),\n",
       " 'std_test_score': array([0.00225486, 0.00240632, 0.0024204 , 0.00318918, 0.00319103,\n",
       "        0.00319103, 0.00320542, 0.00319103, 0.00323186, 0.00321955,\n",
       "        0.00323186, 0.00236955, 0.00240632, 0.00236955, 0.00225486,\n",
       "        0.0024204 , 0.00319103, 0.00236955, 0.00320542, 0.00318942,\n",
       "        0.00215192, 0.00320182, 0.00215192, 0.00319103, 0.0022188 ,\n",
       "        0.0024204 , 0.0024204 , 0.0022188 , 0.00319103, 0.00212784,\n",
       "        0.00323774, 0.00212784, 0.00225486, 0.00215192, 0.0024007 ,\n",
       "        0.00240632, 0.00318942, 0.0024007 , 0.00323774, 0.00243037,\n",
       "        0.00240632, 0.00322089, 0.00321979, 0.00324117, 0.00247622,\n",
       "        0.00320182, 0.00225486, 0.00324198, 0.0024204 , 0.00225486,\n",
       "        0.00236955, 0.0022188 , 0.00212784, 0.00322089, 0.00323186,\n",
       "        0.00225486, 0.00321979, 0.00322089, 0.00319103, 0.00240632,\n",
       "        0.00320182, 0.0024204 , 0.00212784, 0.00323774, 0.00324198,\n",
       "        0.00240632, 0.00243037, 0.00321979, 0.00212784, 0.0024007 ,\n",
       "        0.00236955, 0.00212784, 0.00215192, 0.00323774, 0.00243037,\n",
       "        0.00240632, 0.00323774, 0.00212784, 0.00318942, 0.0022188 ,\n",
       "        0.00324198, 0.0024204 , 0.00321955, 0.00323162, 0.00225486,\n",
       "        0.00236955, 0.00320182, 0.00240632, 0.0024007 , 0.00215192,\n",
       "        0.00318942, 0.00215192, 0.00321979, 0.00319103, 0.0024007 ,\n",
       "        0.0024007 , 0.00319103, 0.00320182, 0.00322089, 0.0022188 ,\n",
       "        0.00322089, 0.00225486, 0.00247622, 0.00320542, 0.00243037,\n",
       "        0.0024204 , 0.0024204 , 0.00319103, 0.00215192, 0.00322089,\n",
       "        0.00320542, 0.00321979, 0.00318942, 0.00323774, 0.00318918,\n",
       "        0.00320542, 0.00240632, 0.00319103, 0.00240632, 0.00243037,\n",
       "        0.00225486, 0.00324117, 0.0022188 , 0.00225486, 0.00236955,\n",
       "        0.00321955, 0.00320542, 0.00323774, 0.00212784, 0.00323774,\n",
       "        0.00247622, 0.0022188 , 0.00323774, 0.00323774, 0.00215192,\n",
       "        0.0022188 , 0.0022188 , 0.00243037, 0.00247622, 0.00225486,\n",
       "        0.00236955, 0.00322089, 0.00243037, 0.00320182, 0.00322089,\n",
       "        0.00319103, 0.0024007 , 0.00320542, 0.00324117, 0.00323774,\n",
       "        0.00320542, 0.00324117, 0.00243037, 0.00324198, 0.00324198,\n",
       "        0.00247622, 0.00215192, 0.00247622, 0.00324198, 0.00324198,\n",
       "        0.0024204 , 0.0022188 , 0.00323162, 0.00240632, 0.0022188 ,\n",
       "        0.00243037, 0.00322089, 0.00324198, 0.00322089, 0.00225486,\n",
       "        0.00243037, 0.00320542, 0.00215192, 0.00247622, 0.00212784,\n",
       "        0.00240632, 0.00323774, 0.00247622, 0.00212784, 0.00323162,\n",
       "        0.0022188 , 0.00323186, 0.00320542, 0.00320182, 0.00319103,\n",
       "        0.00243037, 0.00323186, 0.00236955, 0.00225486, 0.0022188 ,\n",
       "        0.00321979, 0.00324198, 0.00215192, 0.00321979, 0.00322089,\n",
       "        0.00212784, 0.00236955, 0.00323186, 0.00320182, 0.00247622]),\n",
       " 'rank_test_score': array([ 42,  76,   8, 168, 150, 150, 170, 150, 120, 147, 120,  66,  76,\n",
       "         66,  42,   8, 150,  66, 170, 163,  55, 180,  55, 150,  18,   8,\n",
       "          8,  18, 150,  31, 108,  31,  42,  55,   1,  76, 163,   1, 108,\n",
       "         88,  76, 129, 140, 197,  99, 180,  42, 188,   8,  42,  66,  18,\n",
       "         31, 129, 120,  42, 140, 129, 150,  76, 180,   8,  31, 108, 188,\n",
       "         76,  88, 140,  31,   1,  66,  31,  55, 108,  88,  76, 108,  31,\n",
       "        163,  18, 188,   8, 147, 126,  42,  66, 180,  76,   1,  55, 163,\n",
       "         55, 140, 150,   1,   1, 150, 180, 129,  18, 129,  42,  99, 170,\n",
       "         88,   8,   8, 150,  55, 129, 170, 140, 163, 108, 168, 170,  76,\n",
       "        150,  76,  88,  42, 197,  18,  42,  66, 147, 170, 108,  31, 108,\n",
       "         99,  18, 108, 108,  55,  18,  18,  88,  99,  42,  66, 129,  88,\n",
       "        180, 129, 150,   1, 170, 197, 108, 170, 197,  88, 188, 188,  99,\n",
       "         55,  99, 188, 188,   8,  18, 126,  76,  18,  88, 129, 188, 129,\n",
       "         42,  88, 170,  55,  99,  31,  76, 108,  99,  31, 126,  18, 120,\n",
       "        170, 180, 150,  88, 120,  66,  42,  18, 140, 188,  55, 140, 129,\n",
       "         31,  66, 120, 180,  99])}"
      ]
     },
     "execution_count": 42,
     "metadata": {},
     "output_type": "execute_result"
    }
   ],
   "source": [
    "rcv.cv_results_"
   ]
  },
  {
   "cell_type": "code",
   "execution_count": 43,
   "id": "3e83acf8",
   "metadata": {},
   "outputs": [
    {
     "data": {
      "text/html": [
       "<div>\n",
       "<style scoped>\n",
       "    .dataframe tbody tr th:only-of-type {\n",
       "        vertical-align: middle;\n",
       "    }\n",
       "\n",
       "    .dataframe tbody tr th {\n",
       "        vertical-align: top;\n",
       "    }\n",
       "\n",
       "    .dataframe thead th {\n",
       "        text-align: right;\n",
       "    }\n",
       "</style>\n",
       "<table border=\"1\" class=\"dataframe\">\n",
       "  <thead>\n",
       "    <tr style=\"text-align: right;\">\n",
       "      <th></th>\n",
       "      <th>mean_fit_time</th>\n",
       "      <th>std_fit_time</th>\n",
       "      <th>mean_score_time</th>\n",
       "      <th>std_score_time</th>\n",
       "      <th>param_weights</th>\n",
       "      <th>param_p</th>\n",
       "      <th>param_n_neighbors</th>\n",
       "      <th>param_leaf_size</th>\n",
       "      <th>param_algorithm</th>\n",
       "      <th>params</th>\n",
       "      <th>split0_test_score</th>\n",
       "      <th>split1_test_score</th>\n",
       "      <th>split2_test_score</th>\n",
       "      <th>mean_test_score</th>\n",
       "      <th>std_test_score</th>\n",
       "      <th>rank_test_score</th>\n",
       "    </tr>\n",
       "  </thead>\n",
       "  <tbody>\n",
       "    <tr>\n",
       "      <th>0</th>\n",
       "      <td>0.005334</td>\n",
       "      <td>0.003772</td>\n",
       "      <td>0.026453</td>\n",
       "      <td>0.003389</td>\n",
       "      <td>uniform</td>\n",
       "      <td>2</td>\n",
       "      <td>21</td>\n",
       "      <td>38</td>\n",
       "      <td>ball_tree</td>\n",
       "      <td>{'weights': 'uniform', 'p': 2, 'n_neighbors': ...</td>\n",
       "      <td>0.892080</td>\n",
       "      <td>0.889588</td>\n",
       "      <td>0.895103</td>\n",
       "      <td>0.892257</td>\n",
       "      <td>0.002255</td>\n",
       "      <td>42</td>\n",
       "    </tr>\n",
       "    <tr>\n",
       "      <th>1</th>\n",
       "      <td>0.010439</td>\n",
       "      <td>0.007382</td>\n",
       "      <td>0.000000</td>\n",
       "      <td>0.000000</td>\n",
       "      <td>uniform</td>\n",
       "      <td>2</td>\n",
       "      <td>20</td>\n",
       "      <td>9</td>\n",
       "      <td>auto</td>\n",
       "      <td>{'weights': 'uniform', 'p': 2, 'n_neighbors': ...</td>\n",
       "      <td>0.891853</td>\n",
       "      <td>0.889059</td>\n",
       "      <td>0.894951</td>\n",
       "      <td>0.891954</td>\n",
       "      <td>0.002406</td>\n",
       "      <td>76</td>\n",
       "    </tr>\n",
       "    <tr>\n",
       "      <th>2</th>\n",
       "      <td>0.005220</td>\n",
       "      <td>0.007382</td>\n",
       "      <td>0.020826</td>\n",
       "      <td>0.007377</td>\n",
       "      <td>uniform</td>\n",
       "      <td>2</td>\n",
       "      <td>24</td>\n",
       "      <td>38</td>\n",
       "      <td>ball_tree</td>\n",
       "      <td>{'weights': 'uniform', 'p': 2, 'n_neighbors': ...</td>\n",
       "      <td>0.892211</td>\n",
       "      <td>0.889386</td>\n",
       "      <td>0.895312</td>\n",
       "      <td>0.892303</td>\n",
       "      <td>0.002420</td>\n",
       "      <td>8</td>\n",
       "    </tr>\n",
       "    <tr>\n",
       "      <th>3</th>\n",
       "      <td>0.000000</td>\n",
       "      <td>0.000000</td>\n",
       "      <td>0.130164</td>\n",
       "      <td>0.007387</td>\n",
       "      <td>distance</td>\n",
       "      <td>2</td>\n",
       "      <td>21</td>\n",
       "      <td>31</td>\n",
       "      <td>brute</td>\n",
       "      <td>{'weights': 'distance', 'p': 2, 'n_neighbors':...</td>\n",
       "      <td>0.872323</td>\n",
       "      <td>0.873014</td>\n",
       "      <td>0.879407</td>\n",
       "      <td>0.874915</td>\n",
       "      <td>0.003189</td>\n",
       "      <td>168</td>\n",
       "    </tr>\n",
       "    <tr>\n",
       "      <th>4</th>\n",
       "      <td>0.000000</td>\n",
       "      <td>0.000000</td>\n",
       "      <td>0.020831</td>\n",
       "      <td>0.007364</td>\n",
       "      <td>distance</td>\n",
       "      <td>1</td>\n",
       "      <td>21</td>\n",
       "      <td>9</td>\n",
       "      <td>ball_tree</td>\n",
       "      <td>{'weights': 'distance', 'p': 1, 'n_neighbors':...</td>\n",
       "      <td>0.872351</td>\n",
       "      <td>0.873053</td>\n",
       "      <td>0.879444</td>\n",
       "      <td>0.874949</td>\n",
       "      <td>0.003191</td>\n",
       "      <td>150</td>\n",
       "    </tr>\n",
       "    <tr>\n",
       "      <th>...</th>\n",
       "      <td>...</td>\n",
       "      <td>...</td>\n",
       "      <td>...</td>\n",
       "      <td>...</td>\n",
       "      <td>...</td>\n",
       "      <td>...</td>\n",
       "      <td>...</td>\n",
       "      <td>...</td>\n",
       "      <td>...</td>\n",
       "      <td>...</td>\n",
       "      <td>...</td>\n",
       "      <td>...</td>\n",
       "      <td>...</td>\n",
       "      <td>...</td>\n",
       "      <td>...</td>\n",
       "      <td>...</td>\n",
       "    </tr>\n",
       "    <tr>\n",
       "      <th>195</th>\n",
       "      <td>0.005208</td>\n",
       "      <td>0.007365</td>\n",
       "      <td>0.229443</td>\n",
       "      <td>0.026965</td>\n",
       "      <td>uniform</td>\n",
       "      <td>1</td>\n",
       "      <td>22</td>\n",
       "      <td>9</td>\n",
       "      <td>brute</td>\n",
       "      <td>{'weights': 'uniform', 'p': 1, 'n_neighbors': ...</td>\n",
       "      <td>0.891892</td>\n",
       "      <td>0.889895</td>\n",
       "      <td>0.895063</td>\n",
       "      <td>0.892283</td>\n",
       "      <td>0.002128</td>\n",
       "      <td>31</td>\n",
       "    </tr>\n",
       "    <tr>\n",
       "      <th>196</th>\n",
       "      <td>0.000000</td>\n",
       "      <td>0.000000</td>\n",
       "      <td>0.062493</td>\n",
       "      <td>0.000003</td>\n",
       "      <td>uniform</td>\n",
       "      <td>1</td>\n",
       "      <td>20</td>\n",
       "      <td>31</td>\n",
       "      <td>ball_tree</td>\n",
       "      <td>{'weights': 'uniform', 'p': 1, 'n_neighbors': ...</td>\n",
       "      <td>0.891853</td>\n",
       "      <td>0.889152</td>\n",
       "      <td>0.894952</td>\n",
       "      <td>0.891986</td>\n",
       "      <td>0.002370</td>\n",
       "      <td>66</td>\n",
       "    </tr>\n",
       "    <tr>\n",
       "      <th>197</th>\n",
       "      <td>0.000000</td>\n",
       "      <td>0.000000</td>\n",
       "      <td>0.020884</td>\n",
       "      <td>0.007386</td>\n",
       "      <td>distance</td>\n",
       "      <td>2</td>\n",
       "      <td>24</td>\n",
       "      <td>35</td>\n",
       "      <td>auto</td>\n",
       "      <td>{'weights': 'distance', 'p': 2, 'n_neighbors':...</td>\n",
       "      <td>0.873052</td>\n",
       "      <td>0.873587</td>\n",
       "      <td>0.880159</td>\n",
       "      <td>0.875599</td>\n",
       "      <td>0.003232</td>\n",
       "      <td>120</td>\n",
       "    </tr>\n",
       "    <tr>\n",
       "      <th>198</th>\n",
       "      <td>0.005211</td>\n",
       "      <td>0.007370</td>\n",
       "      <td>0.020833</td>\n",
       "      <td>0.007372</td>\n",
       "      <td>distance</td>\n",
       "      <td>2</td>\n",
       "      <td>20</td>\n",
       "      <td>38</td>\n",
       "      <td>auto</td>\n",
       "      <td>{'weights': 'distance', 'p': 2, 'n_neighbors':...</td>\n",
       "      <td>0.871978</td>\n",
       "      <td>0.872671</td>\n",
       "      <td>0.879090</td>\n",
       "      <td>0.874580</td>\n",
       "      <td>0.003202</td>\n",
       "      <td>180</td>\n",
       "    </tr>\n",
       "    <tr>\n",
       "      <th>199</th>\n",
       "      <td>0.005193</td>\n",
       "      <td>0.007344</td>\n",
       "      <td>0.015633</td>\n",
       "      <td>0.000023</td>\n",
       "      <td>uniform</td>\n",
       "      <td>2</td>\n",
       "      <td>17</td>\n",
       "      <td>9</td>\n",
       "      <td>auto</td>\n",
       "      <td>{'weights': 'uniform', 'p': 2, 'n_neighbors': ...</td>\n",
       "      <td>0.890642</td>\n",
       "      <td>0.887934</td>\n",
       "      <td>0.893988</td>\n",
       "      <td>0.890854</td>\n",
       "      <td>0.002476</td>\n",
       "      <td>99</td>\n",
       "    </tr>\n",
       "  </tbody>\n",
       "</table>\n",
       "<p>200 rows × 16 columns</p>\n",
       "</div>"
      ],
      "text/plain": [
       "     mean_fit_time  std_fit_time  mean_score_time  std_score_time  \\\n",
       "0         0.005334      0.003772         0.026453        0.003389   \n",
       "1         0.010439      0.007382         0.000000        0.000000   \n",
       "2         0.005220      0.007382         0.020826        0.007377   \n",
       "3         0.000000      0.000000         0.130164        0.007387   \n",
       "4         0.000000      0.000000         0.020831        0.007364   \n",
       "..             ...           ...              ...             ...   \n",
       "195       0.005208      0.007365         0.229443        0.026965   \n",
       "196       0.000000      0.000000         0.062493        0.000003   \n",
       "197       0.000000      0.000000         0.020884        0.007386   \n",
       "198       0.005211      0.007370         0.020833        0.007372   \n",
       "199       0.005193      0.007344         0.015633        0.000023   \n",
       "\n",
       "    param_weights param_p param_n_neighbors param_leaf_size param_algorithm  \\\n",
       "0         uniform       2                21              38       ball_tree   \n",
       "1         uniform       2                20               9            auto   \n",
       "2         uniform       2                24              38       ball_tree   \n",
       "3        distance       2                21              31           brute   \n",
       "4        distance       1                21               9       ball_tree   \n",
       "..            ...     ...               ...             ...             ...   \n",
       "195       uniform       1                22               9           brute   \n",
       "196       uniform       1                20              31       ball_tree   \n",
       "197      distance       2                24              35            auto   \n",
       "198      distance       2                20              38            auto   \n",
       "199       uniform       2                17               9            auto   \n",
       "\n",
       "                                                params  split0_test_score  \\\n",
       "0    {'weights': 'uniform', 'p': 2, 'n_neighbors': ...           0.892080   \n",
       "1    {'weights': 'uniform', 'p': 2, 'n_neighbors': ...           0.891853   \n",
       "2    {'weights': 'uniform', 'p': 2, 'n_neighbors': ...           0.892211   \n",
       "3    {'weights': 'distance', 'p': 2, 'n_neighbors':...           0.872323   \n",
       "4    {'weights': 'distance', 'p': 1, 'n_neighbors':...           0.872351   \n",
       "..                                                 ...                ...   \n",
       "195  {'weights': 'uniform', 'p': 1, 'n_neighbors': ...           0.891892   \n",
       "196  {'weights': 'uniform', 'p': 1, 'n_neighbors': ...           0.891853   \n",
       "197  {'weights': 'distance', 'p': 2, 'n_neighbors':...           0.873052   \n",
       "198  {'weights': 'distance', 'p': 2, 'n_neighbors':...           0.871978   \n",
       "199  {'weights': 'uniform', 'p': 2, 'n_neighbors': ...           0.890642   \n",
       "\n",
       "     split1_test_score  split2_test_score  mean_test_score  std_test_score  \\\n",
       "0             0.889588           0.895103         0.892257        0.002255   \n",
       "1             0.889059           0.894951         0.891954        0.002406   \n",
       "2             0.889386           0.895312         0.892303        0.002420   \n",
       "3             0.873014           0.879407         0.874915        0.003189   \n",
       "4             0.873053           0.879444         0.874949        0.003191   \n",
       "..                 ...                ...              ...             ...   \n",
       "195           0.889895           0.895063         0.892283        0.002128   \n",
       "196           0.889152           0.894952         0.891986        0.002370   \n",
       "197           0.873587           0.880159         0.875599        0.003232   \n",
       "198           0.872671           0.879090         0.874580        0.003202   \n",
       "199           0.887934           0.893988         0.890854        0.002476   \n",
       "\n",
       "     rank_test_score  \n",
       "0                 42  \n",
       "1                 76  \n",
       "2                  8  \n",
       "3                168  \n",
       "4                150  \n",
       "..               ...  \n",
       "195               31  \n",
       "196               66  \n",
       "197              120  \n",
       "198              180  \n",
       "199               99  \n",
       "\n",
       "[200 rows x 16 columns]"
      ]
     },
     "execution_count": 43,
     "metadata": {},
     "output_type": "execute_result"
    }
   ],
   "source": [
    "cv_result = pd.DataFrame(rcv.cv_results_)\n",
    "cv_result"
   ]
  },
  {
   "cell_type": "code",
   "execution_count": 44,
   "id": "b3c5847a",
   "metadata": {},
   "outputs": [
    {
     "data": {
      "text/plain": [
       "0.8923302602808524"
      ]
     },
     "execution_count": 44,
     "metadata": {},
     "output_type": "execute_result"
    }
   ],
   "source": [
    "rcv.best_score_"
   ]
  },
  {
   "cell_type": "code",
   "execution_count": 45,
   "id": "109d4350",
   "metadata": {},
   "outputs": [
    {
     "data": {
      "text/plain": [
       "{'weights': 'uniform',\n",
       " 'p': 1,\n",
       " 'n_neighbors': 24,\n",
       " 'leaf_size': 38,\n",
       " 'algorithm': 'kd_tree'}"
      ]
     },
     "execution_count": 45,
     "metadata": {},
     "output_type": "execute_result"
    }
   ],
   "source": [
    "rcv.best_params_"
   ]
  },
  {
   "cell_type": "code",
   "execution_count": 46,
   "id": "8e5823af",
   "metadata": {},
   "outputs": [
    {
     "data": {
      "text/plain": [
       "KNeighborsRegressor(algorithm='kd_tree', leaf_size=38, n_neighbors=24, p=1)"
      ]
     },
     "execution_count": 46,
     "metadata": {},
     "output_type": "execute_result"
    }
   ],
   "source": [
    "knn2= rcv.best_estimator_\n",
    "knn2"
   ]
  },
  {
   "cell_type": "code",
   "execution_count": 47,
   "id": "92c23b5c",
   "metadata": {},
   "outputs": [
    {
     "data": {
      "text/plain": [
       "KNeighborsRegressor(algorithm='kd_tree', leaf_size=38, n_neighbors=24, p=1)"
      ]
     },
     "execution_count": 47,
     "metadata": {},
     "output_type": "execute_result"
    }
   ],
   "source": [
    "knn2.fit(xtrain, ytrain)"
   ]
  },
  {
   "cell_type": "code",
   "execution_count": 48,
   "id": "7791aece",
   "metadata": {},
   "outputs": [
    {
     "data": {
      "text/plain": [
       "0.9007621397350515"
      ]
     },
     "execution_count": 48,
     "metadata": {},
     "output_type": "execute_result"
    }
   ],
   "source": [
    "knn2.score(xtrain,ytrain)"
   ]
  },
  {
   "cell_type": "code",
   "execution_count": 49,
   "id": "5f1df16b",
   "metadata": {},
   "outputs": [
    {
     "data": {
      "text/plain": [
       "0.901034823499145"
      ]
     },
     "execution_count": 49,
     "metadata": {},
     "output_type": "execute_result"
    }
   ],
   "source": [
    "knn2.score(xtest, ytest)"
   ]
  },
  {
   "cell_type": "code",
   "execution_count": 50,
   "id": "0c975e88",
   "metadata": {},
   "outputs": [
    {
     "data": {
      "text/plain": [
       "0.9008537688243546"
      ]
     },
     "execution_count": 50,
     "metadata": {},
     "output_type": "execute_result"
    }
   ],
   "source": [
    "knn2.score(x,y)"
   ]
  },
  {
   "cell_type": "code",
   "execution_count": 75,
   "id": "0fb2eabc",
   "metadata": {},
   "outputs": [
    {
     "data": {
      "text/plain": [
       "0.017184616128256724"
      ]
     },
     "execution_count": 75,
     "metadata": {},
     "output_type": "execute_result"
    }
   ],
   "source": [
    "0.901034823499145- 0.8838502073708883 #difference between tuned knn and knn"
   ]
  },
  {
   "cell_type": "code",
   "execution_count": 76,
   "id": "3104f8c8",
   "metadata": {},
   "outputs": [
    {
     "data": {
      "text/plain": [
       "-0.004961137209971045"
      ]
     },
     "execution_count": 76,
     "metadata": {},
     "output_type": "execute_result"
    }
   ],
   "source": [
    "0.901034823499145-0.905995960709116 #difference between tuned knn and linear regression"
   ]
  },
  {
   "cell_type": "code",
   "execution_count": 53,
   "id": "b13c2dac",
   "metadata": {},
   "outputs": [
    {
     "data": {
      "text/plain": [
       "104.93280519574247"
      ]
     },
     "execution_count": 53,
     "metadata": {},
     "output_type": "execute_result"
    }
   ],
   "source": [
    "pred2 = knn2.predict(xtest)\n",
    "mse = mean_squared_error(ytest , pred2)\n",
    "mse"
   ]
  },
  {
   "cell_type": "code",
   "execution_count": 54,
   "id": "36d1a7a1",
   "metadata": {},
   "outputs": [
    {
     "data": {
      "text/plain": [
       "-17.658035679100806"
      ]
     },
     "execution_count": 54,
     "metadata": {},
     "output_type": "execute_result"
    }
   ],
   "source": [
    "105.49562295526903-123.15365863436983 #difference between tuned knn and knn"
   ]
  },
  {
   "cell_type": "code",
   "execution_count": 55,
   "id": "aa016ec7",
   "metadata": {},
   "outputs": [
    {
     "data": {
      "text/plain": [
       "5.823112974568716"
      ]
     },
     "execution_count": 55,
     "metadata": {},
     "output_type": "execute_result"
    }
   ],
   "source": [
    "105.49562295526903-99.67250998070031 #difference between tuned knn and linear regression"
   ]
  },
  {
   "cell_type": "code",
   "execution_count": 56,
   "id": "b4c30fd0",
   "metadata": {},
   "outputs": [
    {
     "data": {
      "text/plain": [
       "8.167549488353298"
      ]
     },
     "execution_count": 56,
     "metadata": {},
     "output_type": "execute_result"
    }
   ],
   "source": [
    "mae = mean_absolute_error(ytest , pred2)\n",
    "mae"
   ]
  },
  {
   "cell_type": "code",
   "execution_count": 57,
   "id": "3a1d2c69",
   "metadata": {},
   "outputs": [
    {
     "data": {
      "text/plain": [
       "-0.6792407554349449"
      ]
     },
     "execution_count": 57,
     "metadata": {},
     "output_type": "execute_result"
    }
   ],
   "source": [
    "8.17150705440222-8.850747809837165 #difference between tuned knn and knn"
   ]
  },
  {
   "cell_type": "code",
   "execution_count": 58,
   "id": "ef33e00e",
   "metadata": {},
   "outputs": [
    {
     "data": {
      "text/plain": [
       "0.1893744616730899"
      ]
     },
     "execution_count": 58,
     "metadata": {},
     "output_type": "execute_result"
    }
   ],
   "source": [
    "8.17150705440222-7.98213259272913 #difference between tuned knn and linear regression"
   ]
  },
  {
   "cell_type": "markdown",
   "id": "1cec8c2d",
   "metadata": {},
   "source": [
    "# KNN Classifier"
   ]
  },
  {
   "cell_type": "code",
   "execution_count": 59,
   "id": "b4e86349",
   "metadata": {},
   "outputs": [
    {
     "data": {
      "text/html": [
       "<div>\n",
       "<style scoped>\n",
       "    .dataframe tbody tr th:only-of-type {\n",
       "        vertical-align: middle;\n",
       "    }\n",
       "\n",
       "    .dataframe tbody tr th {\n",
       "        vertical-align: top;\n",
       "    }\n",
       "\n",
       "    .dataframe thead th {\n",
       "        text-align: right;\n",
       "    }\n",
       "</style>\n",
       "<table border=\"1\" class=\"dataframe\">\n",
       "  <thead>\n",
       "    <tr style=\"text-align: right;\">\n",
       "      <th></th>\n",
       "      <th>Gender</th>\n",
       "      <th>Height</th>\n",
       "      <th>Weight</th>\n",
       "    </tr>\n",
       "  </thead>\n",
       "  <tbody>\n",
       "    <tr>\n",
       "      <th>0</th>\n",
       "      <td>Male</td>\n",
       "      <td>73.847017</td>\n",
       "      <td>241.893563</td>\n",
       "    </tr>\n",
       "    <tr>\n",
       "      <th>1</th>\n",
       "      <td>Male</td>\n",
       "      <td>68.781904</td>\n",
       "      <td>162.310473</td>\n",
       "    </tr>\n",
       "    <tr>\n",
       "      <th>2</th>\n",
       "      <td>Male</td>\n",
       "      <td>74.110105</td>\n",
       "      <td>212.740856</td>\n",
       "    </tr>\n",
       "    <tr>\n",
       "      <th>3</th>\n",
       "      <td>Male</td>\n",
       "      <td>71.730978</td>\n",
       "      <td>220.042470</td>\n",
       "    </tr>\n",
       "    <tr>\n",
       "      <th>4</th>\n",
       "      <td>Male</td>\n",
       "      <td>69.881796</td>\n",
       "      <td>206.349801</td>\n",
       "    </tr>\n",
       "  </tbody>\n",
       "</table>\n",
       "</div>"
      ],
      "text/plain": [
       "  Gender     Height      Weight\n",
       "0   Male  73.847017  241.893563\n",
       "1   Male  68.781904  162.310473\n",
       "2   Male  74.110105  212.740856\n",
       "3   Male  71.730978  220.042470\n",
       "4   Male  69.881796  206.349801"
      ]
     },
     "execution_count": 59,
     "metadata": {},
     "output_type": "execute_result"
    }
   ],
   "source": [
    "df.head()"
   ]
  },
  {
   "cell_type": "code",
   "execution_count": 60,
   "id": "86a38674",
   "metadata": {},
   "outputs": [
    {
     "data": {
      "text/plain": [
       "0       1\n",
       "1       1\n",
       "2       1\n",
       "3       1\n",
       "4       1\n",
       "       ..\n",
       "8550    0\n",
       "8551    0\n",
       "8552    0\n",
       "8553    0\n",
       "8554    0\n",
       "Name: Gender, Length: 8555, dtype: int32"
      ]
     },
     "execution_count": 60,
     "metadata": {},
     "output_type": "execute_result"
    }
   ],
   "source": [
    "df1=df.copy()\n",
    "df1.Gender=le.fit_transform(df1.Gender)\n",
    "df1.Gender"
   ]
  },
  {
   "cell_type": "code",
   "execution_count": 61,
   "id": "541ed76d",
   "metadata": {},
   "outputs": [],
   "source": [
    "x1= df1.drop('Gender', axis=1)\n",
    "y1=df1['Gender']"
   ]
  },
  {
   "cell_type": "code",
   "execution_count": 62,
   "id": "a87e8cf1",
   "metadata": {},
   "outputs": [
    {
     "data": {
      "text/html": [
       "<div>\n",
       "<style scoped>\n",
       "    .dataframe tbody tr th:only-of-type {\n",
       "        vertical-align: middle;\n",
       "    }\n",
       "\n",
       "    .dataframe tbody tr th {\n",
       "        vertical-align: top;\n",
       "    }\n",
       "\n",
       "    .dataframe thead th {\n",
       "        text-align: right;\n",
       "    }\n",
       "</style>\n",
       "<table border=\"1\" class=\"dataframe\">\n",
       "  <thead>\n",
       "    <tr style=\"text-align: right;\">\n",
       "      <th></th>\n",
       "      <th>Height</th>\n",
       "      <th>Weight</th>\n",
       "    </tr>\n",
       "  </thead>\n",
       "  <tbody>\n",
       "    <tr>\n",
       "      <th>0</th>\n",
       "      <td>73.847017</td>\n",
       "      <td>241.893563</td>\n",
       "    </tr>\n",
       "    <tr>\n",
       "      <th>1</th>\n",
       "      <td>68.781904</td>\n",
       "      <td>162.310473</td>\n",
       "    </tr>\n",
       "    <tr>\n",
       "      <th>2</th>\n",
       "      <td>74.110105</td>\n",
       "      <td>212.740856</td>\n",
       "    </tr>\n",
       "    <tr>\n",
       "      <th>3</th>\n",
       "      <td>71.730978</td>\n",
       "      <td>220.042470</td>\n",
       "    </tr>\n",
       "    <tr>\n",
       "      <th>4</th>\n",
       "      <td>69.881796</td>\n",
       "      <td>206.349801</td>\n",
       "    </tr>\n",
       "  </tbody>\n",
       "</table>\n",
       "</div>"
      ],
      "text/plain": [
       "      Height      Weight\n",
       "0  73.847017  241.893563\n",
       "1  68.781904  162.310473\n",
       "2  74.110105  212.740856\n",
       "3  71.730978  220.042470\n",
       "4  69.881796  206.349801"
      ]
     },
     "execution_count": 62,
     "metadata": {},
     "output_type": "execute_result"
    }
   ],
   "source": [
    "x1.head()"
   ]
  },
  {
   "cell_type": "code",
   "execution_count": 63,
   "id": "5a48d042",
   "metadata": {},
   "outputs": [
    {
     "data": {
      "text/plain": [
       "0    1\n",
       "1    1\n",
       "2    1\n",
       "3    1\n",
       "4    1\n",
       "Name: Gender, dtype: int32"
      ]
     },
     "execution_count": 63,
     "metadata": {},
     "output_type": "execute_result"
    }
   ],
   "source": [
    "y1.head()"
   ]
  },
  {
   "cell_type": "code",
   "execution_count": 64,
   "id": "c251fc19",
   "metadata": {},
   "outputs": [],
   "source": [
    "x1train, x1test,y1train, y1test = train_test_split(x1, y1,test_size=.30, random_state=1)"
   ]
  },
  {
   "cell_type": "code",
   "execution_count": 65,
   "id": "ab77b0e9",
   "metadata": {},
   "outputs": [],
   "source": [
    "from sklearn.neighbors import KNeighborsClassifier\n",
    "knn_clf= KNeighborsClassifier(n_neighbors=10)"
   ]
  },
  {
   "cell_type": "code",
   "execution_count": 66,
   "id": "13b472cb",
   "metadata": {},
   "outputs": [
    {
     "data": {
      "text/plain": [
       "KNeighborsClassifier(n_neighbors=10)"
      ]
     },
     "execution_count": 66,
     "metadata": {},
     "output_type": "execute_result"
    }
   ],
   "source": [
    "knn_clf.fit(x1train,y1train)"
   ]
  },
  {
   "cell_type": "code",
   "execution_count": 67,
   "id": "ffcf121c",
   "metadata": {},
   "outputs": [],
   "source": [
    "y1pred= knn_clf.predict(x1test)"
   ]
  },
  {
   "cell_type": "code",
   "execution_count": 68,
   "id": "e0ecef2a",
   "metadata": {},
   "outputs": [
    {
     "data": {
      "text/plain": [
       "0.9216984807167901"
      ]
     },
     "execution_count": 68,
     "metadata": {},
     "output_type": "execute_result"
    }
   ],
   "source": [
    "knn_clf.score(x1test,y1test)"
   ]
  },
  {
   "cell_type": "code",
   "execution_count": 69,
   "id": "8e15bd4a",
   "metadata": {},
   "outputs": [
    {
     "data": {
      "text/plain": [
       "0.9213426853707415"
      ]
     },
     "execution_count": 69,
     "metadata": {},
     "output_type": "execute_result"
    }
   ],
   "source": [
    "knn_clf.score(x1train,y1train)"
   ]
  },
  {
   "cell_type": "code",
   "execution_count": 70,
   "id": "221d3ce2",
   "metadata": {},
   "outputs": [
    {
     "data": {
      "text/plain": [
       "0.9214494447691408"
      ]
     },
     "execution_count": 70,
     "metadata": {},
     "output_type": "execute_result"
    }
   ],
   "source": [
    "knn_clf.score(x1,y1)"
   ]
  },
  {
   "cell_type": "markdown",
   "id": "78bcc3fc",
   "metadata": {},
   "source": [
    "# Confusion matrix, ROC curve"
   ]
  },
  {
   "cell_type": "code",
   "execution_count": 71,
   "id": "bc476e1d",
   "metadata": {},
   "outputs": [],
   "source": [
    "from sklearn.metrics import classification_report, confusion_matrix, roc_curve, plot_roc_curve"
   ]
  },
  {
   "cell_type": "code",
   "execution_count": 72,
   "id": "22cefd0c",
   "metadata": {},
   "outputs": [
    {
     "name": "stdout",
     "output_type": "stream",
     "text": [
      "              precision    recall  f1-score   support\n",
      "\n",
      "           0       0.89      0.92      0.91      1055\n",
      "           1       0.94      0.92      0.93      1512\n",
      "\n",
      "    accuracy                           0.92      2567\n",
      "   macro avg       0.92      0.92      0.92      2567\n",
      "weighted avg       0.92      0.92      0.92      2567\n",
      "\n"
     ]
    }
   ],
   "source": [
    "print(classification_report(y1test, y1pred))"
   ]
  },
  {
   "cell_type": "code",
   "execution_count": 73,
   "id": "1f7dfcc2",
   "metadata": {},
   "outputs": [
    {
     "data": {
      "text/plain": [
       "array([[ 970,   85],\n",
       "       [ 116, 1396]], dtype=int64)"
      ]
     },
     "execution_count": 73,
     "metadata": {},
     "output_type": "execute_result"
    }
   ],
   "source": [
    "confusion_matrix(y1test,y1pred)"
   ]
  },
  {
   "cell_type": "code",
   "execution_count": 74,
   "id": "82a438a3",
   "metadata": {},
   "outputs": [
    {
     "data": {
      "text/plain": [
       "[<matplotlib.lines.Line2D at 0x2349b848be0>]"
      ]
     },
     "execution_count": 74,
     "metadata": {},
     "output_type": "execute_result"
    },
    {
     "data": {
      "image/png": "[encoded data removed]",
      "text/plain": [
       "<Figure size 432x288 with 1 Axes>"
      ]
     },
     "metadata": {
      "needs_background": "light"
     },
     "output_type": "display_data"
    }
   ],
   "source": [
    "import matplotlib.pyplot as plt\n",
    "plot_roc_curve(knn_clf, x1test, y1test)\n",
    "plt.plot([0,1],[0,1])"
   ]
  },
  {
   "cell_type": "code",
   "execution_count": null,
   "id": "ec6a8fbe",
   "metadata": {},
   "outputs": [],
   "source": []
  }
 ],
 "metadata": {
  "kernelspec": {
   "display_name": "Python 3 (ipykernel)",
   "language": "python",
   "name": "python3"
  },
  "language_info": {
   "codemirror_mode": {
    "name": "ipython",
    "version": 3
   },
   "file_extension": ".py",
   "mimetype": "text/x-python",
   "name": "python",
   "nbconvert_exporter": "python",
   "pygments_lexer": "ipython3",
   "version": "3.9.7"
  }
 },
 "nbformat": 4,
 "nbformat_minor": 5
}
